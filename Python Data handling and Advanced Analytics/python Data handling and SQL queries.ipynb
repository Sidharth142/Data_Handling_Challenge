{
 "cells": [
  {
   "cell_type": "markdown",
   "id": "94c83d36",
   "metadata": {},
   "source": [
    "### Importing the library"
   ]
  },
  {
   "cell_type": "code",
   "execution_count": 38,
   "id": "2de5f93b",
   "metadata": {},
   "outputs": [],
   "source": [
    "import sqlite3\n",
    "import pandas as pd"
   ]
  },
  {
   "cell_type": "markdown",
   "id": "fd9a3b2a",
   "metadata": {},
   "source": [
    "### Setting Up Database Connection and Cursor"
   ]
  },
  {
   "cell_type": "code",
   "execution_count": 39,
   "id": "f93bcd56",
   "metadata": {},
   "outputs": [],
   "source": [
    "connection = sqlite3.connect(\"kucher.db\")\n",
    "cursor=connection.cursor()"
   ]
  },
  {
   "cell_type": "markdown",
   "id": "457423ad",
   "metadata": {},
   "source": [
    "### Loading the CSV Data into DataFrame"
   ]
  },
  {
   "cell_type": "code",
   "execution_count": 40,
   "id": "9d87a05f",
   "metadata": {},
   "outputs": [
    {
     "name": "stderr",
     "output_type": "stream",
     "text": [
      "C:\\Users\\HP\\anaconda3\\lib\\site-packages\\IPython\\core\\interactiveshell.py:3444: DtypeWarning: Columns (1) have mixed types.Specify dtype option on import or set low_memory=False.\n",
      "  exec(code_obj, self.user_global_ns, self.user_ns)\n"
     ]
    }
   ],
   "source": [
    "df = pd.read_csv('C:\\\\Users\\\\HP\\\\Desktop\\\\hi\\\\combined_csv.csv')\n",
    "#df.to_sql(\"D1\", connection, if_exists='append', index=False)\n",
    "#df = pandas.read_csv('C:\\\\Users\\\\HP\\\\Desktop\\\\kucher\\\\D2.csv')\n",
    "#df.to_sql(\"D2\", connection, if_exists='append', index=False)\n",
    "#df = pandas.read_csv('C:\\\\Users\\\\HP\\\\Desktop\\\\kucher\\\\D3.csv')\n",
    "#df.to_sql(\"D3\", connection, if_exists='append', index=False)"
   ]
  },
  {
   "cell_type": "markdown",
   "id": "b6ab1185",
   "metadata": {},
   "source": [
    "### Committing Changes to the Database"
   ]
  },
  {
   "cell_type": "code",
   "execution_count": 41,
   "id": "d05c9359",
   "metadata": {},
   "outputs": [],
   "source": [
    "connection.commit()"
   ]
  },
  {
   "cell_type": "markdown",
   "id": "5d6a0088",
   "metadata": {},
   "source": [
    "### Displaying the DataFrame"
   ]
  },
  {
   "cell_type": "code",
   "execution_count": 42,
   "id": "ae6626ae",
   "metadata": {},
   "outputs": [
    {
     "data": {
      "text/html": [
       "<div>\n",
       "<style scoped>\n",
       "    .dataframe tbody tr th:only-of-type {\n",
       "        vertical-align: middle;\n",
       "    }\n",
       "\n",
       "    .dataframe tbody tr th {\n",
       "        vertical-align: top;\n",
       "    }\n",
       "\n",
       "    .dataframe thead th {\n",
       "        text-align: right;\n",
       "    }\n",
       "</style>\n",
       "<table border=\"1\" class=\"dataframe\">\n",
       "  <thead>\n",
       "    <tr style=\"text-align: right;\">\n",
       "      <th></th>\n",
       "      <th>Point_de_Vente</th>\n",
       "      <th>Numero_TPV</th>\n",
       "      <th>Numero_Transaction</th>\n",
       "      <th>Date_Transaction</th>\n",
       "      <th>Heure</th>\n",
       "      <th>Typologie_Magasin</th>\n",
       "      <th>Numero_Fidelite</th>\n",
       "      <th>Type_de_Vente</th>\n",
       "      <th>Univers_Produit</th>\n",
       "      <th>Segment_Produit</th>\n",
       "      <th>...</th>\n",
       "      <th>Fedas_Numero</th>\n",
       "      <th>Fedas_Libelle</th>\n",
       "      <th>Cible_Genre_Age</th>\n",
       "      <th>Modele_Couleur_Ref</th>\n",
       "      <th>Modele_Couleur_Libelle</th>\n",
       "      <th>Type_de_vente_NPS</th>\n",
       "      <th>Quantite_Vendue</th>\n",
       "      <th>CA_Net_TTC</th>\n",
       "      <th>CA_Net_HT</th>\n",
       "      <th>Marge_Nette_Magasin</th>\n",
       "    </tr>\n",
       "  </thead>\n",
       "  <tbody>\n",
       "    <tr>\n",
       "      <th>0</th>\n",
       "      <td>PDV-id-00562</td>\n",
       "      <td>TPV_783</td>\n",
       "      <td>TID000002834579</td>\n",
       "      <td>31/01/2022</td>\n",
       "      <td>16:00:00</td>\n",
       "      <td>Typologie_Magasin_05</td>\n",
       "      <td>N_2563125</td>\n",
       "      <td>TV3</td>\n",
       "      <td>CL1_9</td>\n",
       "      <td>CL2_51</td>\n",
       "      <td>...</td>\n",
       "      <td>FedasNum2138</td>\n",
       "      <td>FedasLib522</td>\n",
       "      <td>CGA6</td>\n",
       "      <td>MCR37031</td>\n",
       "      <td>MCL63642</td>\n",
       "      <td>NPS3</td>\n",
       "      <td>1</td>\n",
       "      <td>23,035,092,548,305,200</td>\n",
       "      <td>18,714,557,910,757,400</td>\n",
       "      <td>68,160,272,144,355,400</td>\n",
       "    </tr>\n",
       "    <tr>\n",
       "      <th>1</th>\n",
       "      <td>PDV-id-00240</td>\n",
       "      <td>TPV_769</td>\n",
       "      <td>TID000002759437</td>\n",
       "      <td>31/01/2022</td>\n",
       "      <td>18:00:00</td>\n",
       "      <td>Typologie_Magasin_05</td>\n",
       "      <td>N_1420193</td>\n",
       "      <td>TV3</td>\n",
       "      <td>CL1_9</td>\n",
       "      <td>CL2_51</td>\n",
       "      <td>...</td>\n",
       "      <td>FedasNum2138</td>\n",
       "      <td>FedasLib522</td>\n",
       "      <td>CGA6</td>\n",
       "      <td>MCR173774</td>\n",
       "      <td>MCL103648</td>\n",
       "      <td>NPS3</td>\n",
       "      <td>1</td>\n",
       "      <td>36,846,934,040,269,100</td>\n",
       "      <td>29,936,105,116,967,700</td>\n",
       "      <td>68,983,961,233,713,200</td>\n",
       "    </tr>\n",
       "    <tr>\n",
       "      <th>2</th>\n",
       "      <td>PDV-id-00173</td>\n",
       "      <td>TPV_610</td>\n",
       "      <td>TID000006033571</td>\n",
       "      <td>31/01/2022</td>\n",
       "      <td>15:00:00</td>\n",
       "      <td>Typologie_Magasin_05</td>\n",
       "      <td>NaN</td>\n",
       "      <td>TV3</td>\n",
       "      <td>CL1_9</td>\n",
       "      <td>CL2_51</td>\n",
       "      <td>...</td>\n",
       "      <td>FedasNum2138</td>\n",
       "      <td>FedasLib522</td>\n",
       "      <td>CGA6</td>\n",
       "      <td>MCR173774</td>\n",
       "      <td>MCL103648</td>\n",
       "      <td>NPS3</td>\n",
       "      <td>1</td>\n",
       "      <td>29,484,918,461,830,700</td>\n",
       "      <td>23,961,462,289,001,500</td>\n",
       "      <td>5.15E+14</td>\n",
       "    </tr>\n",
       "    <tr>\n",
       "      <th>3</th>\n",
       "      <td>PDV-id-00400</td>\n",
       "      <td>TPV_586</td>\n",
       "      <td>TID0000048672</td>\n",
       "      <td>31/01/2022</td>\n",
       "      <td>16:00:00</td>\n",
       "      <td>Typologie_Magasin_05</td>\n",
       "      <td>NaN</td>\n",
       "      <td>TV3</td>\n",
       "      <td>CL1_29</td>\n",
       "      <td>CL2_48</td>\n",
       "      <td>...</td>\n",
       "      <td>FedasNum1482</td>\n",
       "      <td>FedasLib477</td>\n",
       "      <td>CGA6</td>\n",
       "      <td>MCR69542</td>\n",
       "      <td>MCL138327</td>\n",
       "      <td>NPS3</td>\n",
       "      <td>1</td>\n",
       "      <td>69,105,277,644,915,800</td>\n",
       "      <td>56,152,658,157,577,600</td>\n",
       "      <td>12,664,219,748,875,700</td>\n",
       "    </tr>\n",
       "    <tr>\n",
       "      <th>4</th>\n",
       "      <td>PDV-id-00420</td>\n",
       "      <td>TPV_400</td>\n",
       "      <td>TID00000573995</td>\n",
       "      <td>31/01/2022</td>\n",
       "      <td>15:00:00</td>\n",
       "      <td>Typologie_Magasin_05</td>\n",
       "      <td>N_262364</td>\n",
       "      <td>TV3</td>\n",
       "      <td>CL1_29</td>\n",
       "      <td>CL2_48</td>\n",
       "      <td>...</td>\n",
       "      <td>FedasNum1482</td>\n",
       "      <td>FedasLib477</td>\n",
       "      <td>CGA6</td>\n",
       "      <td>MCR69368</td>\n",
       "      <td>MCL138325</td>\n",
       "      <td>NPS3</td>\n",
       "      <td>1</td>\n",
       "      <td>11,047,630,386,167,200</td>\n",
       "      <td>89,754,408,799,072,100</td>\n",
       "      <td>60,747,070,340,135,500</td>\n",
       "    </tr>\n",
       "    <tr>\n",
       "      <th>...</th>\n",
       "      <td>...</td>\n",
       "      <td>...</td>\n",
       "      <td>...</td>\n",
       "      <td>...</td>\n",
       "      <td>...</td>\n",
       "      <td>...</td>\n",
       "      <td>...</td>\n",
       "      <td>...</td>\n",
       "      <td>...</td>\n",
       "      <td>...</td>\n",
       "      <td>...</td>\n",
       "      <td>...</td>\n",
       "      <td>...</td>\n",
       "      <td>...</td>\n",
       "      <td>...</td>\n",
       "      <td>...</td>\n",
       "      <td>...</td>\n",
       "      <td>...</td>\n",
       "      <td>...</td>\n",
       "      <td>...</td>\n",
       "      <td>...</td>\n",
       "    </tr>\n",
       "    <tr>\n",
       "      <th>543056</th>\n",
       "      <td>PDV-id-00200</td>\n",
       "      <td>TPV_711</td>\n",
       "      <td>TID000001983968</td>\n",
       "      <td>17/03/2022</td>\n",
       "      <td>16:00:00</td>\n",
       "      <td>Typologie_Magasin_05</td>\n",
       "      <td>N_1731337</td>\n",
       "      <td>TV3</td>\n",
       "      <td>CL1_10</td>\n",
       "      <td>CL2_72</td>\n",
       "      <td>...</td>\n",
       "      <td>FedasNum500</td>\n",
       "      <td>FedasLib1337</td>\n",
       "      <td>CGA11</td>\n",
       "      <td>MCR110778</td>\n",
       "      <td>MCL113595</td>\n",
       "      <td>NPS2</td>\n",
       "      <td>1</td>\n",
       "      <td>45,978</td>\n",
       "      <td>37,375,209,269,683,600</td>\n",
       "      <td>30,476,496,306,237,400</td>\n",
       "    </tr>\n",
       "    <tr>\n",
       "      <th>543057</th>\n",
       "      <td>PDV-id-00192</td>\n",
       "      <td>TPV_411</td>\n",
       "      <td>TID000001797562</td>\n",
       "      <td>17/03/2022</td>\n",
       "      <td>10:00:00</td>\n",
       "      <td>Typologie_Magasin_05</td>\n",
       "      <td>NaN</td>\n",
       "      <td>TV3</td>\n",
       "      <td>CL1_10</td>\n",
       "      <td>CL2_72</td>\n",
       "      <td>...</td>\n",
       "      <td>FedasNum500</td>\n",
       "      <td>FedasLib1337</td>\n",
       "      <td>CGA11</td>\n",
       "      <td>MCR110778</td>\n",
       "      <td>MCL113595</td>\n",
       "      <td>NPS2</td>\n",
       "      <td>1</td>\n",
       "      <td>45,978</td>\n",
       "      <td>37,375,209,269,683,600</td>\n",
       "      <td>30,167,612,897,728,300</td>\n",
       "    </tr>\n",
       "    <tr>\n",
       "      <th>543058</th>\n",
       "      <td>PDV-id-00398</td>\n",
       "      <td>TPV_92</td>\n",
       "      <td>TID000007834967</td>\n",
       "      <td>18/03/2022</td>\n",
       "      <td>13:00:00</td>\n",
       "      <td>Typologie_Magasin_05</td>\n",
       "      <td>NaN</td>\n",
       "      <td>TV3</td>\n",
       "      <td>CL1_10</td>\n",
       "      <td>CL2_72</td>\n",
       "      <td>...</td>\n",
       "      <td>FedasNum500</td>\n",
       "      <td>FedasLib1337</td>\n",
       "      <td>CGA11</td>\n",
       "      <td>MCR110778</td>\n",
       "      <td>MCL113595</td>\n",
       "      <td>NPS2</td>\n",
       "      <td>1</td>\n",
       "      <td>45,978</td>\n",
       "      <td>37,375,209,269,683,600</td>\n",
       "      <td>30,270,574,033,898,000</td>\n",
       "    </tr>\n",
       "    <tr>\n",
       "      <th>543059</th>\n",
       "      <td>PDV-id-00446</td>\n",
       "      <td>TPV_793</td>\n",
       "      <td>TID000002957223</td>\n",
       "      <td>17/03/2022</td>\n",
       "      <td>12:00:00</td>\n",
       "      <td>Typologie_Magasin_05</td>\n",
       "      <td>NaN</td>\n",
       "      <td>TV3</td>\n",
       "      <td>CL1_10</td>\n",
       "      <td>CL2_72</td>\n",
       "      <td>...</td>\n",
       "      <td>FedasNum500</td>\n",
       "      <td>FedasLib1337</td>\n",
       "      <td>CGA11</td>\n",
       "      <td>MCR110778</td>\n",
       "      <td>MCL113595</td>\n",
       "      <td>NPS2</td>\n",
       "      <td>1</td>\n",
       "      <td>45,978</td>\n",
       "      <td>37,375,209,269,683,600</td>\n",
       "      <td>30,167,612,897,728,300</td>\n",
       "    </tr>\n",
       "    <tr>\n",
       "      <th>543060</th>\n",
       "      <td>PDV-id-00226</td>\n",
       "      <td>TPV_718</td>\n",
       "      <td>TID000005648532</td>\n",
       "      <td>14/03/2022</td>\n",
       "      <td>17:00:00</td>\n",
       "      <td>Typologie_Magasin_05</td>\n",
       "      <td>NaN</td>\n",
       "      <td>TV3</td>\n",
       "      <td>CL1_10</td>\n",
       "      <td>CL2_72</td>\n",
       "      <td>...</td>\n",
       "      <td>FedasNum500</td>\n",
       "      <td>FedasLib1337</td>\n",
       "      <td>CGA11</td>\n",
       "      <td>MCR110778</td>\n",
       "      <td>MCL113595</td>\n",
       "      <td>NPS2</td>\n",
       "      <td>1</td>\n",
       "      <td>-45,978</td>\n",
       "      <td>-37,375,209,269,683,600</td>\n",
       "      <td>-30,476,496,306,237,400</td>\n",
       "    </tr>\n",
       "  </tbody>\n",
       "</table>\n",
       "<p>543061 rows × 22 columns</p>\n",
       "</div>"
      ],
      "text/plain": [
       "       Point_de_Vente Numero_TPV Numero_Transaction Date_Transaction  \\\n",
       "0        PDV-id-00562    TPV_783    TID000002834579       31/01/2022   \n",
       "1        PDV-id-00240    TPV_769    TID000002759437       31/01/2022   \n",
       "2        PDV-id-00173    TPV_610    TID000006033571       31/01/2022   \n",
       "3        PDV-id-00400    TPV_586      TID0000048672       31/01/2022   \n",
       "4        PDV-id-00420    TPV_400     TID00000573995       31/01/2022   \n",
       "...               ...        ...                ...              ...   \n",
       "543056   PDV-id-00200    TPV_711    TID000001983968       17/03/2022   \n",
       "543057   PDV-id-00192    TPV_411    TID000001797562       17/03/2022   \n",
       "543058   PDV-id-00398     TPV_92    TID000007834967       18/03/2022   \n",
       "543059   PDV-id-00446    TPV_793    TID000002957223       17/03/2022   \n",
       "543060   PDV-id-00226    TPV_718    TID000005648532       14/03/2022   \n",
       "\n",
       "           Heure     Typologie_Magasin Numero_Fidelite Type_de_Vente  \\\n",
       "0       16:00:00  Typologie_Magasin_05       N_2563125           TV3   \n",
       "1       18:00:00  Typologie_Magasin_05       N_1420193           TV3   \n",
       "2       15:00:00  Typologie_Magasin_05             NaN           TV3   \n",
       "3       16:00:00  Typologie_Magasin_05             NaN           TV3   \n",
       "4       15:00:00  Typologie_Magasin_05        N_262364           TV3   \n",
       "...          ...                   ...             ...           ...   \n",
       "543056  16:00:00  Typologie_Magasin_05       N_1731337           TV3   \n",
       "543057  10:00:00  Typologie_Magasin_05             NaN           TV3   \n",
       "543058  13:00:00  Typologie_Magasin_05             NaN           TV3   \n",
       "543059  12:00:00  Typologie_Magasin_05             NaN           TV3   \n",
       "543060  17:00:00  Typologie_Magasin_05             NaN           TV3   \n",
       "\n",
       "       Univers_Produit Segment_Produit  ...  Fedas_Numero Fedas_Libelle  \\\n",
       "0                CL1_9          CL2_51  ...  FedasNum2138   FedasLib522   \n",
       "1                CL1_9          CL2_51  ...  FedasNum2138   FedasLib522   \n",
       "2                CL1_9          CL2_51  ...  FedasNum2138   FedasLib522   \n",
       "3               CL1_29          CL2_48  ...  FedasNum1482   FedasLib477   \n",
       "4               CL1_29          CL2_48  ...  FedasNum1482   FedasLib477   \n",
       "...                ...             ...  ...           ...           ...   \n",
       "543056          CL1_10          CL2_72  ...   FedasNum500  FedasLib1337   \n",
       "543057          CL1_10          CL2_72  ...   FedasNum500  FedasLib1337   \n",
       "543058          CL1_10          CL2_72  ...   FedasNum500  FedasLib1337   \n",
       "543059          CL1_10          CL2_72  ...   FedasNum500  FedasLib1337   \n",
       "543060          CL1_10          CL2_72  ...   FedasNum500  FedasLib1337   \n",
       "\n",
       "       Cible_Genre_Age Modele_Couleur_Ref Modele_Couleur_Libelle  \\\n",
       "0                 CGA6           MCR37031               MCL63642   \n",
       "1                 CGA6          MCR173774              MCL103648   \n",
       "2                 CGA6          MCR173774              MCL103648   \n",
       "3                 CGA6           MCR69542              MCL138327   \n",
       "4                 CGA6           MCR69368              MCL138325   \n",
       "...                ...                ...                    ...   \n",
       "543056           CGA11          MCR110778              MCL113595   \n",
       "543057           CGA11          MCR110778              MCL113595   \n",
       "543058           CGA11          MCR110778              MCL113595   \n",
       "543059           CGA11          MCR110778              MCL113595   \n",
       "543060           CGA11          MCR110778              MCL113595   \n",
       "\n",
       "       Type_de_vente_NPS Quantite_Vendue              CA_Net_TTC  \\\n",
       "0                   NPS3               1  23,035,092,548,305,200   \n",
       "1                   NPS3               1  36,846,934,040,269,100   \n",
       "2                   NPS3               1  29,484,918,461,830,700   \n",
       "3                   NPS3               1  69,105,277,644,915,800   \n",
       "4                   NPS3               1  11,047,630,386,167,200   \n",
       "...                  ...             ...                     ...   \n",
       "543056              NPS2               1                  45,978   \n",
       "543057              NPS2               1                  45,978   \n",
       "543058              NPS2               1                  45,978   \n",
       "543059              NPS2               1                  45,978   \n",
       "543060              NPS2               1                 -45,978   \n",
       "\n",
       "                      CA_Net_HT      Marge_Nette_Magasin  \n",
       "0        18,714,557,910,757,400   68,160,272,144,355,400  \n",
       "1        29,936,105,116,967,700   68,983,961,233,713,200  \n",
       "2        23,961,462,289,001,500                 5.15E+14  \n",
       "3        56,152,658,157,577,600   12,664,219,748,875,700  \n",
       "4        89,754,408,799,072,100   60,747,070,340,135,500  \n",
       "...                         ...                      ...  \n",
       "543056   37,375,209,269,683,600   30,476,496,306,237,400  \n",
       "543057   37,375,209,269,683,600   30,167,612,897,728,300  \n",
       "543058   37,375,209,269,683,600   30,270,574,033,898,000  \n",
       "543059   37,375,209,269,683,600   30,167,612,897,728,300  \n",
       "543060  -37,375,209,269,683,600  -30,476,496,306,237,400  \n",
       "\n",
       "[543061 rows x 22 columns]"
      ]
     },
     "execution_count": 42,
     "metadata": {},
     "output_type": "execute_result"
    }
   ],
   "source": [
    "df"
   ]
  },
  {
   "cell_type": "markdown",
   "id": "afbc8b0e",
   "metadata": {},
   "source": [
    "### Previewing the dataframe"
   ]
  },
  {
   "cell_type": "code",
   "execution_count": 43,
   "id": "9cc41164",
   "metadata": {},
   "outputs": [
    {
     "name": "stdout",
     "output_type": "stream",
     "text": [
      "  Point_de_Vente Numero_TPV Numero_Transaction Date_Transaction     Heure  \\\n",
      "0   PDV-id-00562    TPV_783    TID000002834579       31/01/2022  16:00:00   \n",
      "1   PDV-id-00240    TPV_769    TID000002759437       31/01/2022  18:00:00   \n",
      "2   PDV-id-00173    TPV_610    TID000006033571       31/01/2022  15:00:00   \n",
      "3   PDV-id-00400    TPV_586      TID0000048672       31/01/2022  16:00:00   \n",
      "4   PDV-id-00420    TPV_400     TID00000573995       31/01/2022  15:00:00   \n",
      "\n",
      "      Typologie_Magasin Numero_Fidelite Type_de_Vente Univers_Produit  \\\n",
      "0  Typologie_Magasin_05       N_2563125           TV3           CL1_9   \n",
      "1  Typologie_Magasin_05       N_1420193           TV3           CL1_9   \n",
      "2  Typologie_Magasin_05             NaN           TV3           CL1_9   \n",
      "3  Typologie_Magasin_05             NaN           TV3          CL1_29   \n",
      "4  Typologie_Magasin_05        N_262364           TV3          CL1_29   \n",
      "\n",
      "  Segment_Produit  ...  Fedas_Numero Fedas_Libelle Cible_Genre_Age  \\\n",
      "0          CL2_51  ...  FedasNum2138   FedasLib522            CGA6   \n",
      "1          CL2_51  ...  FedasNum2138   FedasLib522            CGA6   \n",
      "2          CL2_51  ...  FedasNum2138   FedasLib522            CGA6   \n",
      "3          CL2_48  ...  FedasNum1482   FedasLib477            CGA6   \n",
      "4          CL2_48  ...  FedasNum1482   FedasLib477            CGA6   \n",
      "\n",
      "  Modele_Couleur_Ref Modele_Couleur_Libelle Type_de_vente_NPS Quantite_Vendue  \\\n",
      "0           MCR37031               MCL63642              NPS3               1   \n",
      "1          MCR173774              MCL103648              NPS3               1   \n",
      "2          MCR173774              MCL103648              NPS3               1   \n",
      "3           MCR69542              MCL138327              NPS3               1   \n",
      "4           MCR69368              MCL138325              NPS3               1   \n",
      "\n",
      "               CA_Net_TTC               CA_Net_HT     Marge_Nette_Magasin  \n",
      "0  23,035,092,548,305,200  18,714,557,910,757,400  68,160,272,144,355,400  \n",
      "1  36,846,934,040,269,100  29,936,105,116,967,700  68,983,961,233,713,200  \n",
      "2  29,484,918,461,830,700  23,961,462,289,001,500                5.15E+14  \n",
      "3  69,105,277,644,915,800  56,152,658,157,577,600  12,664,219,748,875,700  \n",
      "4  11,047,630,386,167,200  89,754,408,799,072,100  60,747,070,340,135,500  \n",
      "\n",
      "[5 rows x 22 columns]\n"
     ]
    }
   ],
   "source": [
    "print(df.head())"
   ]
  },
  {
   "cell_type": "code",
   "execution_count": 44,
   "id": "252c0d00",
   "metadata": {},
   "outputs": [],
   "source": [
    "#for row in cursor.execute('''SELECT * FROM D1'''):\n",
    "#    print(row)"
   ]
  },
  {
   "cell_type": "code",
   "execution_count": 45,
   "id": "71597dde",
   "metadata": {},
   "outputs": [],
   "source": [
    "#for row in cursor.execute('''SELECT * FROM D2'''):\n",
    "#    print(row)"
   ]
  },
  {
   "cell_type": "code",
   "execution_count": 46,
   "id": "42600836",
   "metadata": {},
   "outputs": [],
   "source": [
    "#for row in cursor.execute('''SELECT * FROM D3'''):\n",
    "#    print(row)"
   ]
  },
  {
   "cell_type": "markdown",
   "id": "ab78fac3",
   "metadata": {},
   "source": [
    "### Checking for Duplicate Rows in the DataFrame"
   ]
  },
  {
   "cell_type": "code",
   "execution_count": 47,
   "id": "7db517f6",
   "metadata": {},
   "outputs": [
    {
     "name": "stdout",
     "output_type": "stream",
     "text": [
      "Number of duplicate rows: 1\n"
     ]
    }
   ],
   "source": [
    "num_duplicates = df.duplicated().sum()\n",
    "print(f\"Number of duplicate rows: {num_duplicates}\")\n",
    "\n"
   ]
  },
  {
   "cell_type": "markdown",
   "id": "ff7fd409",
   "metadata": {},
   "source": [
    "### Printing duplicate rows in a DataFrame"
   ]
  },
  {
   "cell_type": "code",
   "execution_count": 48,
   "id": "38c1a08d",
   "metadata": {},
   "outputs": [
    {
     "name": "stdout",
     "output_type": "stream",
     "text": [
      "       Point_de_Vente Numero_TPV Numero_Transaction Date_Transaction  \\\n",
      "424228   PDV-id-00311        NaN     TID00000535830       16/02/2022   \n",
      "\n",
      "           Heure     Typologie_Magasin Numero_Fidelite Type_de_Vente  \\\n",
      "424228  10:00:00  Typologie_Magasin_05       N_2043570           TV3   \n",
      "\n",
      "       Univers_Produit Segment_Produit  ... Fedas_Numero Fedas_Libelle  \\\n",
      "424228          CL1_21           CL2_4  ...  FedasNum740  FedasLib1866   \n",
      "\n",
      "       Cible_Genre_Age Modele_Couleur_Ref Modele_Couleur_Libelle  \\\n",
      "424228           CGA11           MCR95737               MCL11988   \n",
      "\n",
      "       Type_de_vente_NPS Quantite_Vendue CA_Net_TTC  CA_Net_HT  \\\n",
      "424228              NPS2               2          0          0   \n",
      "\n",
      "           Marge_Nette_Magasin  \n",
      "424228  -3,006,465,176,155,860  \n",
      "\n",
      "[1 rows x 22 columns]\n"
     ]
    }
   ],
   "source": [
    "duplicate_rows = df[df.duplicated()]\n",
    "print(duplicate_rows)\n"
   ]
  },
  {
   "cell_type": "markdown",
   "id": "71619243",
   "metadata": {},
   "source": [
    "### To diplay the duplicates"
   ]
  },
  {
   "cell_type": "code",
   "execution_count": 49,
   "id": "f4528145",
   "metadata": {},
   "outputs": [
    {
     "name": "stdout",
     "output_type": "stream",
     "text": [
      "       Point_de_Vente Numero_TPV Numero_Transaction Date_Transaction  \\\n",
      "424178   PDV-id-00311        NaN     TID00000535830       16/02/2022   \n",
      "424228   PDV-id-00311        NaN     TID00000535830       16/02/2022   \n",
      "\n",
      "           Heure     Typologie_Magasin Numero_Fidelite Type_de_Vente  \\\n",
      "424178  10:00:00  Typologie_Magasin_05       N_2043570           TV3   \n",
      "424228  10:00:00  Typologie_Magasin_05       N_2043570           TV3   \n",
      "\n",
      "       Univers_Produit Segment_Produit  ... Fedas_Numero Fedas_Libelle  \\\n",
      "424178          CL1_21           CL2_4  ...  FedasNum740  FedasLib1866   \n",
      "424228          CL1_21           CL2_4  ...  FedasNum740  FedasLib1866   \n",
      "\n",
      "       Cible_Genre_Age Modele_Couleur_Ref Modele_Couleur_Libelle  \\\n",
      "424178           CGA11           MCR95737               MCL11988   \n",
      "424228           CGA11           MCR95737               MCL11988   \n",
      "\n",
      "       Type_de_vente_NPS Quantite_Vendue CA_Net_TTC  CA_Net_HT  \\\n",
      "424178              NPS2               2          0          0   \n",
      "424228              NPS2               2          0          0   \n",
      "\n",
      "           Marge_Nette_Magasin  \n",
      "424178  -3,006,465,176,155,860  \n",
      "424228  -3,006,465,176,155,860  \n",
      "\n",
      "[2 rows x 22 columns]\n"
     ]
    }
   ],
   "source": [
    "all_duplicates = df[df.duplicated(keep=False)]\n",
    "print(all_duplicates)\n"
   ]
  },
  {
   "cell_type": "markdown",
   "id": "87aba729",
   "metadata": {},
   "source": [
    "### Removing Duplicate Rows from the DataFrame "
   ]
  },
  {
   "cell_type": "code",
   "execution_count": 50,
   "id": "e59012ed",
   "metadata": {},
   "outputs": [
    {
     "data": {
      "text/html": [
       "<div>\n",
       "<style scoped>\n",
       "    .dataframe tbody tr th:only-of-type {\n",
       "        vertical-align: middle;\n",
       "    }\n",
       "\n",
       "    .dataframe tbody tr th {\n",
       "        vertical-align: top;\n",
       "    }\n",
       "\n",
       "    .dataframe thead th {\n",
       "        text-align: right;\n",
       "    }\n",
       "</style>\n",
       "<table border=\"1\" class=\"dataframe\">\n",
       "  <thead>\n",
       "    <tr style=\"text-align: right;\">\n",
       "      <th></th>\n",
       "      <th>Point_de_Vente</th>\n",
       "      <th>Numero_TPV</th>\n",
       "      <th>Numero_Transaction</th>\n",
       "      <th>Date_Transaction</th>\n",
       "      <th>Heure</th>\n",
       "      <th>Typologie_Magasin</th>\n",
       "      <th>Numero_Fidelite</th>\n",
       "      <th>Type_de_Vente</th>\n",
       "      <th>Univers_Produit</th>\n",
       "      <th>Segment_Produit</th>\n",
       "      <th>...</th>\n",
       "      <th>Fedas_Numero</th>\n",
       "      <th>Fedas_Libelle</th>\n",
       "      <th>Cible_Genre_Age</th>\n",
       "      <th>Modele_Couleur_Ref</th>\n",
       "      <th>Modele_Couleur_Libelle</th>\n",
       "      <th>Type_de_vente_NPS</th>\n",
       "      <th>Quantite_Vendue</th>\n",
       "      <th>CA_Net_TTC</th>\n",
       "      <th>CA_Net_HT</th>\n",
       "      <th>Marge_Nette_Magasin</th>\n",
       "    </tr>\n",
       "  </thead>\n",
       "  <tbody>\n",
       "    <tr>\n",
       "      <th>0</th>\n",
       "      <td>PDV-id-00562</td>\n",
       "      <td>TPV_783</td>\n",
       "      <td>TID000002834579</td>\n",
       "      <td>31/01/2022</td>\n",
       "      <td>16:00:00</td>\n",
       "      <td>Typologie_Magasin_05</td>\n",
       "      <td>N_2563125</td>\n",
       "      <td>TV3</td>\n",
       "      <td>CL1_9</td>\n",
       "      <td>CL2_51</td>\n",
       "      <td>...</td>\n",
       "      <td>FedasNum2138</td>\n",
       "      <td>FedasLib522</td>\n",
       "      <td>CGA6</td>\n",
       "      <td>MCR37031</td>\n",
       "      <td>MCL63642</td>\n",
       "      <td>NPS3</td>\n",
       "      <td>1</td>\n",
       "      <td>23,035,092,548,305,200</td>\n",
       "      <td>18,714,557,910,757,400</td>\n",
       "      <td>68,160,272,144,355,400</td>\n",
       "    </tr>\n",
       "    <tr>\n",
       "      <th>1</th>\n",
       "      <td>PDV-id-00240</td>\n",
       "      <td>TPV_769</td>\n",
       "      <td>TID000002759437</td>\n",
       "      <td>31/01/2022</td>\n",
       "      <td>18:00:00</td>\n",
       "      <td>Typologie_Magasin_05</td>\n",
       "      <td>N_1420193</td>\n",
       "      <td>TV3</td>\n",
       "      <td>CL1_9</td>\n",
       "      <td>CL2_51</td>\n",
       "      <td>...</td>\n",
       "      <td>FedasNum2138</td>\n",
       "      <td>FedasLib522</td>\n",
       "      <td>CGA6</td>\n",
       "      <td>MCR173774</td>\n",
       "      <td>MCL103648</td>\n",
       "      <td>NPS3</td>\n",
       "      <td>1</td>\n",
       "      <td>36,846,934,040,269,100</td>\n",
       "      <td>29,936,105,116,967,700</td>\n",
       "      <td>68,983,961,233,713,200</td>\n",
       "    </tr>\n",
       "    <tr>\n",
       "      <th>2</th>\n",
       "      <td>PDV-id-00173</td>\n",
       "      <td>TPV_610</td>\n",
       "      <td>TID000006033571</td>\n",
       "      <td>31/01/2022</td>\n",
       "      <td>15:00:00</td>\n",
       "      <td>Typologie_Magasin_05</td>\n",
       "      <td>NaN</td>\n",
       "      <td>TV3</td>\n",
       "      <td>CL1_9</td>\n",
       "      <td>CL2_51</td>\n",
       "      <td>...</td>\n",
       "      <td>FedasNum2138</td>\n",
       "      <td>FedasLib522</td>\n",
       "      <td>CGA6</td>\n",
       "      <td>MCR173774</td>\n",
       "      <td>MCL103648</td>\n",
       "      <td>NPS3</td>\n",
       "      <td>1</td>\n",
       "      <td>29,484,918,461,830,700</td>\n",
       "      <td>23,961,462,289,001,500</td>\n",
       "      <td>5.15E+14</td>\n",
       "    </tr>\n",
       "    <tr>\n",
       "      <th>3</th>\n",
       "      <td>PDV-id-00400</td>\n",
       "      <td>TPV_586</td>\n",
       "      <td>TID0000048672</td>\n",
       "      <td>31/01/2022</td>\n",
       "      <td>16:00:00</td>\n",
       "      <td>Typologie_Magasin_05</td>\n",
       "      <td>NaN</td>\n",
       "      <td>TV3</td>\n",
       "      <td>CL1_29</td>\n",
       "      <td>CL2_48</td>\n",
       "      <td>...</td>\n",
       "      <td>FedasNum1482</td>\n",
       "      <td>FedasLib477</td>\n",
       "      <td>CGA6</td>\n",
       "      <td>MCR69542</td>\n",
       "      <td>MCL138327</td>\n",
       "      <td>NPS3</td>\n",
       "      <td>1</td>\n",
       "      <td>69,105,277,644,915,800</td>\n",
       "      <td>56,152,658,157,577,600</td>\n",
       "      <td>12,664,219,748,875,700</td>\n",
       "    </tr>\n",
       "    <tr>\n",
       "      <th>4</th>\n",
       "      <td>PDV-id-00420</td>\n",
       "      <td>TPV_400</td>\n",
       "      <td>TID00000573995</td>\n",
       "      <td>31/01/2022</td>\n",
       "      <td>15:00:00</td>\n",
       "      <td>Typologie_Magasin_05</td>\n",
       "      <td>N_262364</td>\n",
       "      <td>TV3</td>\n",
       "      <td>CL1_29</td>\n",
       "      <td>CL2_48</td>\n",
       "      <td>...</td>\n",
       "      <td>FedasNum1482</td>\n",
       "      <td>FedasLib477</td>\n",
       "      <td>CGA6</td>\n",
       "      <td>MCR69368</td>\n",
       "      <td>MCL138325</td>\n",
       "      <td>NPS3</td>\n",
       "      <td>1</td>\n",
       "      <td>11,047,630,386,167,200</td>\n",
       "      <td>89,754,408,799,072,100</td>\n",
       "      <td>60,747,070,340,135,500</td>\n",
       "    </tr>\n",
       "    <tr>\n",
       "      <th>...</th>\n",
       "      <td>...</td>\n",
       "      <td>...</td>\n",
       "      <td>...</td>\n",
       "      <td>...</td>\n",
       "      <td>...</td>\n",
       "      <td>...</td>\n",
       "      <td>...</td>\n",
       "      <td>...</td>\n",
       "      <td>...</td>\n",
       "      <td>...</td>\n",
       "      <td>...</td>\n",
       "      <td>...</td>\n",
       "      <td>...</td>\n",
       "      <td>...</td>\n",
       "      <td>...</td>\n",
       "      <td>...</td>\n",
       "      <td>...</td>\n",
       "      <td>...</td>\n",
       "      <td>...</td>\n",
       "      <td>...</td>\n",
       "      <td>...</td>\n",
       "    </tr>\n",
       "    <tr>\n",
       "      <th>543056</th>\n",
       "      <td>PDV-id-00200</td>\n",
       "      <td>TPV_711</td>\n",
       "      <td>TID000001983968</td>\n",
       "      <td>17/03/2022</td>\n",
       "      <td>16:00:00</td>\n",
       "      <td>Typologie_Magasin_05</td>\n",
       "      <td>N_1731337</td>\n",
       "      <td>TV3</td>\n",
       "      <td>CL1_10</td>\n",
       "      <td>CL2_72</td>\n",
       "      <td>...</td>\n",
       "      <td>FedasNum500</td>\n",
       "      <td>FedasLib1337</td>\n",
       "      <td>CGA11</td>\n",
       "      <td>MCR110778</td>\n",
       "      <td>MCL113595</td>\n",
       "      <td>NPS2</td>\n",
       "      <td>1</td>\n",
       "      <td>45,978</td>\n",
       "      <td>37,375,209,269,683,600</td>\n",
       "      <td>30,476,496,306,237,400</td>\n",
       "    </tr>\n",
       "    <tr>\n",
       "      <th>543057</th>\n",
       "      <td>PDV-id-00192</td>\n",
       "      <td>TPV_411</td>\n",
       "      <td>TID000001797562</td>\n",
       "      <td>17/03/2022</td>\n",
       "      <td>10:00:00</td>\n",
       "      <td>Typologie_Magasin_05</td>\n",
       "      <td>NaN</td>\n",
       "      <td>TV3</td>\n",
       "      <td>CL1_10</td>\n",
       "      <td>CL2_72</td>\n",
       "      <td>...</td>\n",
       "      <td>FedasNum500</td>\n",
       "      <td>FedasLib1337</td>\n",
       "      <td>CGA11</td>\n",
       "      <td>MCR110778</td>\n",
       "      <td>MCL113595</td>\n",
       "      <td>NPS2</td>\n",
       "      <td>1</td>\n",
       "      <td>45,978</td>\n",
       "      <td>37,375,209,269,683,600</td>\n",
       "      <td>30,167,612,897,728,300</td>\n",
       "    </tr>\n",
       "    <tr>\n",
       "      <th>543058</th>\n",
       "      <td>PDV-id-00398</td>\n",
       "      <td>TPV_92</td>\n",
       "      <td>TID000007834967</td>\n",
       "      <td>18/03/2022</td>\n",
       "      <td>13:00:00</td>\n",
       "      <td>Typologie_Magasin_05</td>\n",
       "      <td>NaN</td>\n",
       "      <td>TV3</td>\n",
       "      <td>CL1_10</td>\n",
       "      <td>CL2_72</td>\n",
       "      <td>...</td>\n",
       "      <td>FedasNum500</td>\n",
       "      <td>FedasLib1337</td>\n",
       "      <td>CGA11</td>\n",
       "      <td>MCR110778</td>\n",
       "      <td>MCL113595</td>\n",
       "      <td>NPS2</td>\n",
       "      <td>1</td>\n",
       "      <td>45,978</td>\n",
       "      <td>37,375,209,269,683,600</td>\n",
       "      <td>30,270,574,033,898,000</td>\n",
       "    </tr>\n",
       "    <tr>\n",
       "      <th>543059</th>\n",
       "      <td>PDV-id-00446</td>\n",
       "      <td>TPV_793</td>\n",
       "      <td>TID000002957223</td>\n",
       "      <td>17/03/2022</td>\n",
       "      <td>12:00:00</td>\n",
       "      <td>Typologie_Magasin_05</td>\n",
       "      <td>NaN</td>\n",
       "      <td>TV3</td>\n",
       "      <td>CL1_10</td>\n",
       "      <td>CL2_72</td>\n",
       "      <td>...</td>\n",
       "      <td>FedasNum500</td>\n",
       "      <td>FedasLib1337</td>\n",
       "      <td>CGA11</td>\n",
       "      <td>MCR110778</td>\n",
       "      <td>MCL113595</td>\n",
       "      <td>NPS2</td>\n",
       "      <td>1</td>\n",
       "      <td>45,978</td>\n",
       "      <td>37,375,209,269,683,600</td>\n",
       "      <td>30,167,612,897,728,300</td>\n",
       "    </tr>\n",
       "    <tr>\n",
       "      <th>543060</th>\n",
       "      <td>PDV-id-00226</td>\n",
       "      <td>TPV_718</td>\n",
       "      <td>TID000005648532</td>\n",
       "      <td>14/03/2022</td>\n",
       "      <td>17:00:00</td>\n",
       "      <td>Typologie_Magasin_05</td>\n",
       "      <td>NaN</td>\n",
       "      <td>TV3</td>\n",
       "      <td>CL1_10</td>\n",
       "      <td>CL2_72</td>\n",
       "      <td>...</td>\n",
       "      <td>FedasNum500</td>\n",
       "      <td>FedasLib1337</td>\n",
       "      <td>CGA11</td>\n",
       "      <td>MCR110778</td>\n",
       "      <td>MCL113595</td>\n",
       "      <td>NPS2</td>\n",
       "      <td>1</td>\n",
       "      <td>-45,978</td>\n",
       "      <td>-37,375,209,269,683,600</td>\n",
       "      <td>-30,476,496,306,237,400</td>\n",
       "    </tr>\n",
       "  </tbody>\n",
       "</table>\n",
       "<p>543060 rows × 22 columns</p>\n",
       "</div>"
      ],
      "text/plain": [
       "       Point_de_Vente Numero_TPV Numero_Transaction Date_Transaction  \\\n",
       "0        PDV-id-00562    TPV_783    TID000002834579       31/01/2022   \n",
       "1        PDV-id-00240    TPV_769    TID000002759437       31/01/2022   \n",
       "2        PDV-id-00173    TPV_610    TID000006033571       31/01/2022   \n",
       "3        PDV-id-00400    TPV_586      TID0000048672       31/01/2022   \n",
       "4        PDV-id-00420    TPV_400     TID00000573995       31/01/2022   \n",
       "...               ...        ...                ...              ...   \n",
       "543056   PDV-id-00200    TPV_711    TID000001983968       17/03/2022   \n",
       "543057   PDV-id-00192    TPV_411    TID000001797562       17/03/2022   \n",
       "543058   PDV-id-00398     TPV_92    TID000007834967       18/03/2022   \n",
       "543059   PDV-id-00446    TPV_793    TID000002957223       17/03/2022   \n",
       "543060   PDV-id-00226    TPV_718    TID000005648532       14/03/2022   \n",
       "\n",
       "           Heure     Typologie_Magasin Numero_Fidelite Type_de_Vente  \\\n",
       "0       16:00:00  Typologie_Magasin_05       N_2563125           TV3   \n",
       "1       18:00:00  Typologie_Magasin_05       N_1420193           TV3   \n",
       "2       15:00:00  Typologie_Magasin_05             NaN           TV3   \n",
       "3       16:00:00  Typologie_Magasin_05             NaN           TV3   \n",
       "4       15:00:00  Typologie_Magasin_05        N_262364           TV3   \n",
       "...          ...                   ...             ...           ...   \n",
       "543056  16:00:00  Typologie_Magasin_05       N_1731337           TV3   \n",
       "543057  10:00:00  Typologie_Magasin_05             NaN           TV3   \n",
       "543058  13:00:00  Typologie_Magasin_05             NaN           TV3   \n",
       "543059  12:00:00  Typologie_Magasin_05             NaN           TV3   \n",
       "543060  17:00:00  Typologie_Magasin_05             NaN           TV3   \n",
       "\n",
       "       Univers_Produit Segment_Produit  ...  Fedas_Numero Fedas_Libelle  \\\n",
       "0                CL1_9          CL2_51  ...  FedasNum2138   FedasLib522   \n",
       "1                CL1_9          CL2_51  ...  FedasNum2138   FedasLib522   \n",
       "2                CL1_9          CL2_51  ...  FedasNum2138   FedasLib522   \n",
       "3               CL1_29          CL2_48  ...  FedasNum1482   FedasLib477   \n",
       "4               CL1_29          CL2_48  ...  FedasNum1482   FedasLib477   \n",
       "...                ...             ...  ...           ...           ...   \n",
       "543056          CL1_10          CL2_72  ...   FedasNum500  FedasLib1337   \n",
       "543057          CL1_10          CL2_72  ...   FedasNum500  FedasLib1337   \n",
       "543058          CL1_10          CL2_72  ...   FedasNum500  FedasLib1337   \n",
       "543059          CL1_10          CL2_72  ...   FedasNum500  FedasLib1337   \n",
       "543060          CL1_10          CL2_72  ...   FedasNum500  FedasLib1337   \n",
       "\n",
       "       Cible_Genre_Age Modele_Couleur_Ref Modele_Couleur_Libelle  \\\n",
       "0                 CGA6           MCR37031               MCL63642   \n",
       "1                 CGA6          MCR173774              MCL103648   \n",
       "2                 CGA6          MCR173774              MCL103648   \n",
       "3                 CGA6           MCR69542              MCL138327   \n",
       "4                 CGA6           MCR69368              MCL138325   \n",
       "...                ...                ...                    ...   \n",
       "543056           CGA11          MCR110778              MCL113595   \n",
       "543057           CGA11          MCR110778              MCL113595   \n",
       "543058           CGA11          MCR110778              MCL113595   \n",
       "543059           CGA11          MCR110778              MCL113595   \n",
       "543060           CGA11          MCR110778              MCL113595   \n",
       "\n",
       "       Type_de_vente_NPS Quantite_Vendue              CA_Net_TTC  \\\n",
       "0                   NPS3               1  23,035,092,548,305,200   \n",
       "1                   NPS3               1  36,846,934,040,269,100   \n",
       "2                   NPS3               1  29,484,918,461,830,700   \n",
       "3                   NPS3               1  69,105,277,644,915,800   \n",
       "4                   NPS3               1  11,047,630,386,167,200   \n",
       "...                  ...             ...                     ...   \n",
       "543056              NPS2               1                  45,978   \n",
       "543057              NPS2               1                  45,978   \n",
       "543058              NPS2               1                  45,978   \n",
       "543059              NPS2               1                  45,978   \n",
       "543060              NPS2               1                 -45,978   \n",
       "\n",
       "                      CA_Net_HT      Marge_Nette_Magasin  \n",
       "0        18,714,557,910,757,400   68,160,272,144,355,400  \n",
       "1        29,936,105,116,967,700   68,983,961,233,713,200  \n",
       "2        23,961,462,289,001,500                 5.15E+14  \n",
       "3        56,152,658,157,577,600   12,664,219,748,875,700  \n",
       "4        89,754,408,799,072,100   60,747,070,340,135,500  \n",
       "...                         ...                      ...  \n",
       "543056   37,375,209,269,683,600   30,476,496,306,237,400  \n",
       "543057   37,375,209,269,683,600   30,167,612,897,728,300  \n",
       "543058   37,375,209,269,683,600   30,270,574,033,898,000  \n",
       "543059   37,375,209,269,683,600   30,167,612,897,728,300  \n",
       "543060  -37,375,209,269,683,600  -30,476,496,306,237,400  \n",
       "\n",
       "[543060 rows x 22 columns]"
      ]
     },
     "execution_count": 50,
     "metadata": {},
     "output_type": "execute_result"
    }
   ],
   "source": [
    "df=df.drop_duplicates()\n",
    "df               "
   ]
  },
  {
   "cell_type": "markdown",
   "id": "c64a4e36",
   "metadata": {},
   "source": [
    "### Checking the Dimensions of the DataFrame"
   ]
  },
  {
   "cell_type": "code",
   "execution_count": 51,
   "id": "e1710c92",
   "metadata": {},
   "outputs": [
    {
     "name": "stdout",
     "output_type": "stream",
     "text": [
      "(543060, 22)\n"
     ]
    }
   ],
   "source": [
    "print(df.shape)"
   ]
  },
  {
   "cell_type": "markdown",
   "id": "6cc08690",
   "metadata": {},
   "source": [
    "### Calculating Missing Values for Each Column"
   ]
  },
  {
   "cell_type": "code",
   "execution_count": 52,
   "id": "21c075bb",
   "metadata": {},
   "outputs": [
    {
     "name": "stdout",
     "output_type": "stream",
     "text": [
      "Point_de_Vente                 0\n",
      "Numero_TPV                285943\n",
      "Numero_Transaction             0\n",
      "Date_Transaction               0\n",
      "Heure                          0\n",
      "Typologie_Magasin              0\n",
      "Numero_Fidelite           131976\n",
      "Type_de_Vente                  0\n",
      "Univers_Produit              240\n",
      "Segment_Produit              240\n",
      "Famille_Produit              240\n",
      "Sous_Famille_Produit         240\n",
      "Fedas_Numero                   0\n",
      "Fedas_Libelle                  0\n",
      "Cible_Genre_Age                0\n",
      "Modele_Couleur_Ref             0\n",
      "Modele_Couleur_Libelle         0\n",
      "Type_de_vente_NPS              0\n",
      "Quantite_Vendue                0\n",
      "CA_Net_TTC                     0\n",
      "CA_Net_HT                      0\n",
      "Marge_Nette_Magasin            0\n",
      "dtype: int64\n"
     ]
    }
   ],
   "source": [
    "missing_values = df.isnull().sum()\n",
    "print(missing_values)"
   ]
  },
  {
   "cell_type": "markdown",
   "id": "8d76968c",
   "metadata": {},
   "source": [
    "### Filling Missing Values in 'Numero_Fidelite' Column"
   ]
  },
  {
   "cell_type": "code",
   "execution_count": 53,
   "id": "a5ab7b06",
   "metadata": {},
   "outputs": [
    {
     "name": "stderr",
     "output_type": "stream",
     "text": [
      "C:\\Users\\HP\\anaconda3\\lib\\site-packages\\pandas\\core\\generic.py:6392: SettingWithCopyWarning: \n",
      "A value is trying to be set on a copy of a slice from a DataFrame\n",
      "\n",
      "See the caveats in the documentation: https://pandas.pydata.org/pandas-docs/stable/user_guide/indexing.html#returning-a-view-versus-a-copy\n",
      "  return self._update_inplace(result)\n"
     ]
    }
   ],
   "source": [
    "df['Numero_Fidelite'].fillna('DefaultValue', inplace=True)"
   ]
  },
  {
   "cell_type": "markdown",
   "id": "3c2c62bd",
   "metadata": {},
   "source": [
    "### Filling Missing Values in 'Numero_TPV' Column"
   ]
  },
  {
   "cell_type": "code",
   "execution_count": 54,
   "id": "f4d6cd21",
   "metadata": {},
   "outputs": [],
   "source": [
    "df['Numero_TPV'].fillna('DefaultValue', inplace=True)"
   ]
  },
  {
   "cell_type": "markdown",
   "id": "c9b7ec97",
   "metadata": {},
   "source": [
    "### Filling Missing Values in 'Segment_Produit' Column"
   ]
  },
  {
   "cell_type": "code",
   "execution_count": 55,
   "id": "8a215c33",
   "metadata": {},
   "outputs": [],
   "source": [
    "df['Segment_Produit'].fillna('DefaultValue', inplace=True)"
   ]
  },
  {
   "cell_type": "markdown",
   "id": "e6d3eace",
   "metadata": {},
   "source": [
    "### Filling Missing Values in 'Famille_Produit' Column"
   ]
  },
  {
   "cell_type": "code",
   "execution_count": 56,
   "id": "bf4d2f35",
   "metadata": {},
   "outputs": [],
   "source": [
    "df['Famille_Produit'].fillna('DefaultValue', inplace=True)"
   ]
  },
  {
   "cell_type": "markdown",
   "id": "54625518",
   "metadata": {},
   "source": [
    "### Filling Missing Values in 'Sous_Famille_Produit' Column"
   ]
  },
  {
   "cell_type": "code",
   "execution_count": 57,
   "id": "5c2300ed",
   "metadata": {},
   "outputs": [],
   "source": [
    "df['Sous_Famille_Produit'].fillna('DefaultValue', inplace=True)"
   ]
  },
  {
   "cell_type": "markdown",
   "id": "c53e001c",
   "metadata": {},
   "source": [
    "### Filling Missing Values in 'Univers_Produit' Column"
   ]
  },
  {
   "cell_type": "code",
   "execution_count": 58,
   "id": "ffb6c87b",
   "metadata": {},
   "outputs": [],
   "source": [
    "df['Univers_Produit'].fillna('DefaultValue', inplace=True)"
   ]
  },
  {
   "cell_type": "markdown",
   "id": "c28af699",
   "metadata": {},
   "source": [
    "### Installing Necessary Libraries for Data Processing and Excel Operations"
   ]
  },
  {
   "cell_type": "code",
   "execution_count": 59,
   "id": "9f241dd4",
   "metadata": {},
   "outputs": [
    {
     "name": "stdout",
     "output_type": "stream",
     "text": [
      "Requirement already satisfied: pandas in c:\\users\\hp\\anaconda3\\lib\\site-packages (1.3.4)\n",
      "Requirement already satisfied: openpyxl in c:\\users\\hp\\anaconda3\\lib\\site-packages (3.0.9)\n",
      "Requirement already satisfied: python-dateutil>=2.7.3 in c:\\users\\hp\\anaconda3\\lib\\site-packages (from pandas) (2.8.2)\n",
      "Requirement already satisfied: numpy>=1.17.3 in c:\\users\\hp\\anaconda3\\lib\\site-packages (from pandas) (1.25.2)\n",
      "Requirement already satisfied: pytz>=2017.3 in c:\\users\\hp\\anaconda3\\lib\\site-packages (from pandas) (2023.3)\n",
      "Requirement already satisfied: et-xmlfile in c:\\users\\hp\\anaconda3\\lib\\site-packages (from openpyxl) (1.1.0)\n",
      "Requirement already satisfied: six>=1.5 in c:\\users\\hp\\anaconda3\\lib\\site-packages (from python-dateutil>=2.7.3->pandas) (1.16.0)\n",
      "Note: you may need to restart the kernel to use updated packages.\n"
     ]
    },
    {
     "name": "stderr",
     "output_type": "stream",
     "text": [
      "WARNING: Ignoring invalid distribution - (c:\\users\\hp\\anaconda3\\lib\\site-packages)\n",
      "WARNING: Ignoring invalid distribution - (c:\\users\\hp\\anaconda3\\lib\\site-packages)\n",
      "WARNING: Ignoring invalid distribution - (c:\\users\\hp\\anaconda3\\lib\\site-packages)\n",
      "WARNING: Ignoring invalid distribution - (c:\\users\\hp\\anaconda3\\lib\\site-packages)\n",
      "WARNING: Ignoring invalid distribution - (c:\\users\\hp\\anaconda3\\lib\\site-packages)\n",
      "WARNING: Ignoring invalid distribution - (c:\\users\\hp\\anaconda3\\lib\\site-packages)\n"
     ]
    }
   ],
   "source": [
    "pip install pandas openpyxl"
   ]
  },
  {
   "cell_type": "markdown",
   "id": "e230f972",
   "metadata": {},
   "source": [
    "### Importing 'product.xlsx' Data into DataFrame"
   ]
  },
  {
   "cell_type": "code",
   "execution_count": 60,
   "id": "8cd9a14a",
   "metadata": {},
   "outputs": [],
   "source": [
    "file_path = \"C:\\\\Users\\\\HP\\\\Desktop\\\\hi\\\\product.xlsx\"\n",
    "\n",
    "df2 = pd.read_excel(file_path, engine='openpyxl')"
   ]
  },
  {
   "cell_type": "markdown",
   "id": "12fa6b73",
   "metadata": {},
   "source": [
    "### Displaying the dataframe"
   ]
  },
  {
   "cell_type": "code",
   "execution_count": 61,
   "id": "dd2c91e6",
   "metadata": {},
   "outputs": [
    {
     "data": {
      "text/html": [
       "<div>\n",
       "<style scoped>\n",
       "    .dataframe tbody tr th:only-of-type {\n",
       "        vertical-align: middle;\n",
       "    }\n",
       "\n",
       "    .dataframe tbody tr th {\n",
       "        vertical-align: top;\n",
       "    }\n",
       "\n",
       "    .dataframe thead th {\n",
       "        text-align: right;\n",
       "    }\n",
       "</style>\n",
       "<table border=\"1\" class=\"dataframe\">\n",
       "  <thead>\n",
       "    <tr style=\"text-align: right;\">\n",
       "      <th></th>\n",
       "      <th>CODE_MODELE_COULEUR_ACTUEL</th>\n",
       "      <th>SIGNATURE_PRODUCT</th>\n",
       "    </tr>\n",
       "  </thead>\n",
       "  <tbody>\n",
       "    <tr>\n",
       "      <th>0</th>\n",
       "      <td>MCR1</td>\n",
       "      <td>True</td>\n",
       "    </tr>\n",
       "    <tr>\n",
       "      <th>1</th>\n",
       "      <td>MCR2</td>\n",
       "      <td>True</td>\n",
       "    </tr>\n",
       "    <tr>\n",
       "      <th>2</th>\n",
       "      <td>MCR3</td>\n",
       "      <td>True</td>\n",
       "    </tr>\n",
       "    <tr>\n",
       "      <th>3</th>\n",
       "      <td>MCR4</td>\n",
       "      <td>False</td>\n",
       "    </tr>\n",
       "    <tr>\n",
       "      <th>4</th>\n",
       "      <td>MCR5</td>\n",
       "      <td>False</td>\n",
       "    </tr>\n",
       "    <tr>\n",
       "      <th>...</th>\n",
       "      <td>...</td>\n",
       "      <td>...</td>\n",
       "    </tr>\n",
       "    <tr>\n",
       "      <th>209995</th>\n",
       "      <td>MCR209996</td>\n",
       "      <td>False</td>\n",
       "    </tr>\n",
       "    <tr>\n",
       "      <th>209996</th>\n",
       "      <td>MCR209997</td>\n",
       "      <td>False</td>\n",
       "    </tr>\n",
       "    <tr>\n",
       "      <th>209997</th>\n",
       "      <td>MCR209998</td>\n",
       "      <td>False</td>\n",
       "    </tr>\n",
       "    <tr>\n",
       "      <th>209998</th>\n",
       "      <td>MCR209999</td>\n",
       "      <td>False</td>\n",
       "    </tr>\n",
       "    <tr>\n",
       "      <th>209999</th>\n",
       "      <td>MCR210000</td>\n",
       "      <td>False</td>\n",
       "    </tr>\n",
       "  </tbody>\n",
       "</table>\n",
       "<p>210000 rows × 2 columns</p>\n",
       "</div>"
      ],
      "text/plain": [
       "       CODE_MODELE_COULEUR_ACTUEL  SIGNATURE_PRODUCT\n",
       "0                            MCR1               True\n",
       "1                            MCR2               True\n",
       "2                            MCR3               True\n",
       "3                            MCR4              False\n",
       "4                            MCR5              False\n",
       "...                           ...                ...\n",
       "209995                  MCR209996              False\n",
       "209996                  MCR209997              False\n",
       "209997                  MCR209998              False\n",
       "209998                  MCR209999              False\n",
       "209999                  MCR210000              False\n",
       "\n",
       "[210000 rows x 2 columns]"
      ]
     },
     "execution_count": 61,
     "metadata": {},
     "output_type": "execute_result"
    }
   ],
   "source": [
    "df2"
   ]
  },
  {
   "cell_type": "markdown",
   "id": "569afbe7",
   "metadata": {},
   "source": [
    "### Checking for duplicates in the dataframe"
   ]
  },
  {
   "cell_type": "code",
   "execution_count": 62,
   "id": "9ee0f0cd",
   "metadata": {},
   "outputs": [
    {
     "name": "stdout",
     "output_type": "stream",
     "text": [
      "Number of duplicate rows: 0\n"
     ]
    }
   ],
   "source": [
    "num_duplicates = df2.duplicated().sum()\n",
    "print(f\"Number of duplicate rows: {num_duplicates}\")"
   ]
  },
  {
   "cell_type": "markdown",
   "id": "91fae258",
   "metadata": {},
   "source": [
    "### checking the dimensions of the dataframe"
   ]
  },
  {
   "cell_type": "code",
   "execution_count": 63,
   "id": "018b5cc2",
   "metadata": {},
   "outputs": [
    {
     "name": "stdout",
     "output_type": "stream",
     "text": [
      "(210000, 2)\n"
     ]
    }
   ],
   "source": [
    "print(df2.shape)"
   ]
  },
  {
   "cell_type": "markdown",
   "id": "51199bb2",
   "metadata": {},
   "source": [
    "### Calculating Missing Values for Each Column"
   ]
  },
  {
   "cell_type": "code",
   "execution_count": 64,
   "id": "7b9e1c04",
   "metadata": {},
   "outputs": [
    {
     "name": "stdout",
     "output_type": "stream",
     "text": [
      "CODE_MODELE_COULEUR_ACTUEL    0\n",
      "SIGNATURE_PRODUCT             0\n",
      "dtype: int64\n"
     ]
    }
   ],
   "source": [
    "missing_values = df2.isnull().sum()\n",
    "print(missing_values)"
   ]
  },
  {
   "cell_type": "markdown",
   "id": "7743df1f",
   "metadata": {},
   "source": [
    "### Previewing the First Rows of the DataFrame"
   ]
  },
  {
   "cell_type": "code",
   "execution_count": 65,
   "id": "31482060",
   "metadata": {},
   "outputs": [
    {
     "name": "stdout",
     "output_type": "stream",
     "text": [
      "  CODE_MODELE_COULEUR_ACTUEL  SIGNATURE_PRODUCT\n",
      "0                       MCR1               True\n",
      "1                       MCR2               True\n",
      "2                       MCR3               True\n",
      "3                       MCR4              False\n",
      "4                       MCR5              False\n"
     ]
    }
   ],
   "source": [
    "print(df2.head())"
   ]
  },
  {
   "cell_type": "markdown",
   "id": "d8fc5f00",
   "metadata": {},
   "source": [
    "### checking for the duplicates"
   ]
  },
  {
   "cell_type": "code",
   "execution_count": 66,
   "id": "d8fb3d98",
   "metadata": {},
   "outputs": [
    {
     "name": "stdout",
     "output_type": "stream",
     "text": [
      "Number of duplicate rows: 0\n"
     ]
    }
   ],
   "source": [
    "num_duplicates = df2.duplicated().sum()\n",
    "print(f\"Number of duplicate rows: {num_duplicates}\")"
   ]
  },
  {
   "cell_type": "markdown",
   "id": "3adaba0c",
   "metadata": {},
   "source": [
    "### checking for the missing values for each column"
   ]
  },
  {
   "cell_type": "code",
   "execution_count": 67,
   "id": "5f94b090",
   "metadata": {},
   "outputs": [
    {
     "name": "stdout",
     "output_type": "stream",
     "text": [
      "CODE_MODELE_COULEUR_ACTUEL    0\n",
      "SIGNATURE_PRODUCT             0\n",
      "dtype: int64\n"
     ]
    }
   ],
   "source": [
    "missing_values = df2.isnull().sum()\n",
    "print(missing_values)"
   ]
  },
  {
   "cell_type": "markdown",
   "id": "b88a6df5",
   "metadata": {},
   "source": [
    "### Creating the 'Transactions' Table in the Database"
   ]
  },
  {
   "cell_type": "code",
   "execution_count": 68,
   "id": "1edd47de",
   "metadata": {},
   "outputs": [
    {
     "ename": "OperationalError",
     "evalue": "table Transactions already exists",
     "output_type": "error",
     "traceback": [
      "\u001b[1;31m---------------------------------------------------------------------------\u001b[0m",
      "\u001b[1;31mOperationalError\u001b[0m                          Traceback (most recent call last)",
      "\u001b[1;32m~\\AppData\\Local\\Temp/ipykernel_12036/2924456683.py\u001b[0m in \u001b[0;36m<module>\u001b[1;34m\u001b[0m\n\u001b[1;32m----> 1\u001b[1;33m cursor.execute (\"\"\"CREATE TABLE Transactions (\n\u001b[0m\u001b[0;32m      2\u001b[0m     \u001b[0mPoint_de_Vente\u001b[0m \u001b[0mVARCHAR\u001b[0m\u001b[1;33m(\u001b[0m\u001b[1;36m20\u001b[0m\u001b[1;33m)\u001b[0m \u001b[0mNOT\u001b[0m \u001b[0mNULL\u001b[0m\u001b[1;33m,\u001b[0m\u001b[1;33m\u001b[0m\u001b[1;33m\u001b[0m\u001b[0m\n\u001b[0;32m      3\u001b[0m     \u001b[0mNumero_TPV\u001b[0m \u001b[0mVARCHAR\u001b[0m\u001b[1;33m(\u001b[0m\u001b[1;36m20\u001b[0m\u001b[1;33m)\u001b[0m \u001b[0mNOT\u001b[0m \u001b[0mNULL\u001b[0m\u001b[1;33m,\u001b[0m\u001b[1;33m\u001b[0m\u001b[1;33m\u001b[0m\u001b[0m\n\u001b[0;32m      4\u001b[0m     \u001b[0mNumero_Transaction\u001b[0m \u001b[0mVARCHAR\u001b[0m\u001b[1;33m(\u001b[0m\u001b[1;36m25\u001b[0m\u001b[1;33m)\u001b[0m \u001b[0mNOT\u001b[0m \u001b[0mNULL\u001b[0m\u001b[1;33m,\u001b[0m\u001b[1;33m\u001b[0m\u001b[1;33m\u001b[0m\u001b[0m\n\u001b[0;32m      5\u001b[0m     \u001b[0mDate_Transaction\u001b[0m \u001b[0mDATE\u001b[0m \u001b[0mNOT\u001b[0m \u001b[0mNULL\u001b[0m\u001b[1;33m,\u001b[0m\u001b[1;33m\u001b[0m\u001b[1;33m\u001b[0m\u001b[0m\n",
      "\u001b[1;31mOperationalError\u001b[0m: table Transactions already exists"
     ]
    }
   ],
   "source": [
    "cursor.execute (\"\"\"CREATE TABLE Transactions (\n",
    "    Point_de_Vente VARCHAR(20) NOT NULL,\n",
    "    Numero_TPV VARCHAR(20) NOT NULL,\n",
    "    Numero_Transaction VARCHAR(25) NOT NULL,\n",
    "    Date_Transaction DATE NOT NULL, \n",
    "    Heure TEXT NOT NULL, -- or TIME if consistently in HH:MM:SS format\n",
    "    Typologie_Magasin VARCHAR(30) NOT NULL,\n",
    "    Numero_Fidelite CHAR(15) NOT NULL,\n",
    "    Type_de_Vente CHAR(3) NOT NULL,\n",
    "    Univers_Produit CHAR(10),\n",
    "    Segment_Produit CHAR(10),\n",
    "    Famille_Produit CHAR(10),\n",
    "    Sous_Famille_Produit CHAR(10),\n",
    "    Fedas_Numero CHAR(20),\n",
    "    Fedas_Libelle CHAR(20),\n",
    "    Cible_Genre_Age CHAR(4),\n",
    "    Modele_Couleur_Ref VARCHAR(30),\n",
    "    Modele_Couleur_Libelle VARCHAR(30),\n",
    "    Type_de_vente_NPS  CHAR(4),\n",
    "    Quantite_Vendue INTEGER NOT NULL,\n",
    "    CA_Net_TTC INTEGER NOT NULL,\n",
    "    CA_Net_HT INTEGER NOT NULL,\n",
    "    Marge_Nette_Magasin INTEGER NOT NULL)\"\"\")"
   ]
  },
  {
   "cell_type": "markdown",
   "id": "23985763",
   "metadata": {},
   "source": [
    "cursor.execute(\"PRAGMA table_info(Transactions);\")\n",
    "columns_info = cursor.fetchall()\n",
    "for column in columns_info:\n",
    "    print(column)\n",
    "\n"
   ]
  },
  {
   "cell_type": "markdown",
   "id": "50401d4e",
   "metadata": {},
   "source": [
    "import os\n",
    "print(os.getcwd())\n"
   ]
  },
  {
   "cell_type": "markdown",
   "id": "3e266e99",
   "metadata": {},
   "source": [
    "for filename in os.listdir(os.getcwd()):\n",
    "    if filename.endswith(\".db\"):  # assuming your SQLite database has a .db extension\n",
    "        print(filename)\n"
   ]
  },
  {
   "cell_type": "markdown",
   "id": "739d2f4a",
   "metadata": {},
   "source": [
    "### Creating the 'Products' Table in the Database"
   ]
  },
  {
   "cell_type": "code",
   "execution_count": 69,
   "id": "80d6453c",
   "metadata": {},
   "outputs": [
    {
     "ename": "OperationalError",
     "evalue": "table Products already exists",
     "output_type": "error",
     "traceback": [
      "\u001b[1;31m---------------------------------------------------------------------------\u001b[0m",
      "\u001b[1;31mOperationalError\u001b[0m                          Traceback (most recent call last)",
      "\u001b[1;32m~\\AppData\\Local\\Temp/ipykernel_12036/3780574549.py\u001b[0m in \u001b[0;36m<module>\u001b[1;34m\u001b[0m\n\u001b[1;32m----> 1\u001b[1;33m cursor.execute(\"\"\"\n\u001b[0m\u001b[0;32m      2\u001b[0m CREATE TABLE Products (\n\u001b[0;32m      3\u001b[0m     \u001b[0mCODE_MODELE_COULEUR_ACTUEL\u001b[0m \u001b[0mVARCHAR\u001b[0m\u001b[1;33m(\u001b[0m\u001b[1;36m50\u001b[0m\u001b[1;33m)\u001b[0m \u001b[0mNOT\u001b[0m \u001b[0mNULL\u001b[0m \u001b[0mPRIMARY\u001b[0m \u001b[0mKEY\u001b[0m\u001b[1;33m,\u001b[0m\u001b[1;33m\u001b[0m\u001b[1;33m\u001b[0m\u001b[0m\n\u001b[0;32m      4\u001b[0m     \u001b[0mSIGNATURE_PRODUCT\u001b[0m \u001b[0mINTEGER\u001b[0m \u001b[0mNOT\u001b[0m \u001b[0mNULL\u001b[0m \u001b[0mCHECK\u001b[0m \u001b[1;33m(\u001b[0m\u001b[0mSIGNATURE_PRODUCT\u001b[0m \u001b[0mIN\u001b[0m \u001b[1;33m(\u001b[0m\u001b[1;36m0\u001b[0m\u001b[1;33m,\u001b[0m \u001b[1;36m1\u001b[0m\u001b[1;33m)\u001b[0m\u001b[1;33m)\u001b[0m\u001b[1;33m\u001b[0m\u001b[1;33m\u001b[0m\u001b[0m\n\u001b[0;32m      5\u001b[0m )\n",
      "\u001b[1;31mOperationalError\u001b[0m: table Products already exists"
     ]
    }
   ],
   "source": [
    "cursor.execute(\"\"\"\n",
    "CREATE TABLE Products (\n",
    "    CODE_MODELE_COULEUR_ACTUEL VARCHAR(50) NOT NULL PRIMARY KEY,\n",
    "    SIGNATURE_PRODUCT INTEGER NOT NULL CHECK (SIGNATURE_PRODUCT IN (0, 1))\n",
    ")\n",
    "\"\"\")\n"
   ]
  },
  {
   "cell_type": "markdown",
   "id": "7fca66b0",
   "metadata": {},
   "source": [
    "df['Numero_Fidelite'].fillna('DefaultValue', inplace=True)\n"
   ]
  },
  {
   "cell_type": "markdown",
   "id": "495655f9",
   "metadata": {},
   "source": [
    "cursor.execute(\"PRAGMA table_info(products);\")\n",
    "columns_info = cursor.fetchall()\n",
    "for column in columns_info:\n",
    "    print(column)"
   ]
  },
  {
   "cell_type": "markdown",
   "id": "32bcef5c",
   "metadata": {},
   "source": [
    "### Database Update: Appending to \"Transactions table\""
   ]
  },
  {
   "cell_type": "code",
   "execution_count": 70,
   "id": "761f35d6",
   "metadata": {},
   "outputs": [],
   "source": [
    "df.to_sql('Transactions', connection, if_exists='append', index=False)\n",
    "\n",
    "connection.commit()"
   ]
  },
  {
   "cell_type": "markdown",
   "id": "c209f5f3",
   "metadata": {},
   "source": [
    "#### Listing Column Names of the DataFrame"
   ]
  },
  {
   "cell_type": "code",
   "execution_count": 71,
   "id": "885a6e0d",
   "metadata": {},
   "outputs": [
    {
     "name": "stdout",
     "output_type": "stream",
     "text": [
      "['Point_de_Vente', 'Numero_TPV', 'Numero_Transaction', 'Date_Transaction', 'Heure', 'Typologie_Magasin', 'Numero_Fidelite', 'Type_de_Vente', 'Univers_Produit', 'Segment_Produit', 'Famille_Produit', 'Sous_Famille_Produit', 'Fedas_Numero', 'Fedas_Libelle', 'Cible_Genre_Age', 'Modele_Couleur_Ref', 'Modele_Couleur_Libelle', 'Type_de_vente_NPS', 'Quantite_Vendue', 'CA_Net_TTC', 'CA_Net_HT', 'Marge_Nette_Magasin']\n"
     ]
    }
   ],
   "source": [
    "print(df.columns.tolist())"
   ]
  },
  {
   "cell_type": "markdown",
   "id": "bd6c1b6c",
   "metadata": {},
   "source": [
    "#### For example : Fetching Records with Numero_Transaction 'TID0000048821"
   ]
  },
  {
   "cell_type": "markdown",
   "id": "59faa962",
   "metadata": {},
   "source": [
    "cursor.execute(\"select * from Transactions where Point_de_Vente= 'PDV-id-00562'\")\n",
    "results = cursor.fetchall()\n",
    "print(results)"
   ]
  },
  {
   "cell_type": "markdown",
   "id": "2969c068",
   "metadata": {},
   "source": [
    "### Database Update: Appending to \"Products table\""
   ]
  },
  {
   "cell_type": "code",
   "execution_count": 75,
   "id": "54f2e6b1",
   "metadata": {},
   "outputs": [
    {
     "ename": "IntegrityError",
     "evalue": "UNIQUE constraint failed: Products.CODE_MODELE_COULEUR_ACTUEL",
     "output_type": "error",
     "traceback": [
      "\u001b[1;31m---------------------------------------------------------------------------\u001b[0m",
      "\u001b[1;31mIntegrityError\u001b[0m                            Traceback (most recent call last)",
      "\u001b[1;32m~\\AppData\\Local\\Temp/ipykernel_12036/2969254358.py\u001b[0m in \u001b[0;36m<module>\u001b[1;34m\u001b[0m\n\u001b[1;32m----> 1\u001b[1;33m \u001b[0mdf2\u001b[0m\u001b[1;33m.\u001b[0m\u001b[0mto_sql\u001b[0m\u001b[1;33m(\u001b[0m\u001b[1;34m'Products'\u001b[0m\u001b[1;33m,\u001b[0m \u001b[0mconnection\u001b[0m\u001b[1;33m,\u001b[0m \u001b[0mif_exists\u001b[0m\u001b[1;33m=\u001b[0m\u001b[1;34m'append'\u001b[0m\u001b[1;33m,\u001b[0m \u001b[0mindex\u001b[0m\u001b[1;33m=\u001b[0m\u001b[1;32mFalse\u001b[0m\u001b[1;33m)\u001b[0m\u001b[1;33m\u001b[0m\u001b[1;33m\u001b[0m\u001b[0m\n\u001b[0m\u001b[0;32m      2\u001b[0m \u001b[1;33m\u001b[0m\u001b[0m\n\u001b[0;32m      3\u001b[0m \u001b[0mconnection\u001b[0m\u001b[1;33m.\u001b[0m\u001b[0mcommit\u001b[0m\u001b[1;33m(\u001b[0m\u001b[1;33m)\u001b[0m\u001b[1;33m\u001b[0m\u001b[1;33m\u001b[0m\u001b[0m\n",
      "\u001b[1;32m~\\anaconda3\\lib\\site-packages\\pandas\\core\\generic.py\u001b[0m in \u001b[0;36mto_sql\u001b[1;34m(self, name, con, schema, if_exists, index, index_label, chunksize, dtype, method)\u001b[0m\n\u001b[0;32m   2870\u001b[0m         \u001b[1;32mfrom\u001b[0m \u001b[0mpandas\u001b[0m\u001b[1;33m.\u001b[0m\u001b[0mio\u001b[0m \u001b[1;32mimport\u001b[0m \u001b[0msql\u001b[0m\u001b[1;33m\u001b[0m\u001b[1;33m\u001b[0m\u001b[0m\n\u001b[0;32m   2871\u001b[0m \u001b[1;33m\u001b[0m\u001b[0m\n\u001b[1;32m-> 2872\u001b[1;33m         sql.to_sql(\n\u001b[0m\u001b[0;32m   2873\u001b[0m             \u001b[0mself\u001b[0m\u001b[1;33m,\u001b[0m\u001b[1;33m\u001b[0m\u001b[1;33m\u001b[0m\u001b[0m\n\u001b[0;32m   2874\u001b[0m             \u001b[0mname\u001b[0m\u001b[1;33m,\u001b[0m\u001b[1;33m\u001b[0m\u001b[1;33m\u001b[0m\u001b[0m\n",
      "\u001b[1;32m~\\anaconda3\\lib\\site-packages\\pandas\\io\\sql.py\u001b[0m in \u001b[0;36mto_sql\u001b[1;34m(frame, name, con, schema, if_exists, index, index_label, chunksize, dtype, method, engine, **engine_kwargs)\u001b[0m\n\u001b[0;32m    715\u001b[0m         )\n\u001b[0;32m    716\u001b[0m \u001b[1;33m\u001b[0m\u001b[0m\n\u001b[1;32m--> 717\u001b[1;33m     pandas_sql.to_sql(\n\u001b[0m\u001b[0;32m    718\u001b[0m         \u001b[0mframe\u001b[0m\u001b[1;33m,\u001b[0m\u001b[1;33m\u001b[0m\u001b[1;33m\u001b[0m\u001b[0m\n\u001b[0;32m    719\u001b[0m         \u001b[0mname\u001b[0m\u001b[1;33m,\u001b[0m\u001b[1;33m\u001b[0m\u001b[1;33m\u001b[0m\u001b[0m\n",
      "\u001b[1;32m~\\anaconda3\\lib\\site-packages\\pandas\\io\\sql.py\u001b[0m in \u001b[0;36mto_sql\u001b[1;34m(self, frame, name, if_exists, index, index_label, schema, chunksize, dtype, method, **kwargs)\u001b[0m\n\u001b[0;32m   2224\u001b[0m         )\n\u001b[0;32m   2225\u001b[0m         \u001b[0mtable\u001b[0m\u001b[1;33m.\u001b[0m\u001b[0mcreate\u001b[0m\u001b[1;33m(\u001b[0m\u001b[1;33m)\u001b[0m\u001b[1;33m\u001b[0m\u001b[1;33m\u001b[0m\u001b[0m\n\u001b[1;32m-> 2226\u001b[1;33m         \u001b[0mtable\u001b[0m\u001b[1;33m.\u001b[0m\u001b[0minsert\u001b[0m\u001b[1;33m(\u001b[0m\u001b[0mchunksize\u001b[0m\u001b[1;33m,\u001b[0m \u001b[0mmethod\u001b[0m\u001b[1;33m)\u001b[0m\u001b[1;33m\u001b[0m\u001b[1;33m\u001b[0m\u001b[0m\n\u001b[0m\u001b[0;32m   2227\u001b[0m \u001b[1;33m\u001b[0m\u001b[0m\n\u001b[0;32m   2228\u001b[0m     \u001b[1;32mdef\u001b[0m \u001b[0mhas_table\u001b[0m\u001b[1;33m(\u001b[0m\u001b[0mself\u001b[0m\u001b[1;33m,\u001b[0m \u001b[0mname\u001b[0m\u001b[1;33m:\u001b[0m \u001b[0mstr\u001b[0m\u001b[1;33m,\u001b[0m \u001b[0mschema\u001b[0m\u001b[1;33m:\u001b[0m \u001b[0mstr\u001b[0m \u001b[1;33m|\u001b[0m \u001b[1;32mNone\u001b[0m \u001b[1;33m=\u001b[0m \u001b[1;32mNone\u001b[0m\u001b[1;33m)\u001b[0m\u001b[1;33m:\u001b[0m\u001b[1;33m\u001b[0m\u001b[1;33m\u001b[0m\u001b[0m\n",
      "\u001b[1;32m~\\anaconda3\\lib\\site-packages\\pandas\\io\\sql.py\u001b[0m in \u001b[0;36minsert\u001b[1;34m(self, chunksize, method)\u001b[0m\n\u001b[0;32m    965\u001b[0m \u001b[1;33m\u001b[0m\u001b[0m\n\u001b[0;32m    966\u001b[0m                 \u001b[0mchunk_iter\u001b[0m \u001b[1;33m=\u001b[0m \u001b[0mzip\u001b[0m\u001b[1;33m(\u001b[0m\u001b[1;33m*\u001b[0m\u001b[1;33m[\u001b[0m\u001b[0marr\u001b[0m\u001b[1;33m[\u001b[0m\u001b[0mstart_i\u001b[0m\u001b[1;33m:\u001b[0m\u001b[0mend_i\u001b[0m\u001b[1;33m]\u001b[0m \u001b[1;32mfor\u001b[0m \u001b[0marr\u001b[0m \u001b[1;32min\u001b[0m \u001b[0mdata_list\u001b[0m\u001b[1;33m]\u001b[0m\u001b[1;33m)\u001b[0m\u001b[1;33m\u001b[0m\u001b[1;33m\u001b[0m\u001b[0m\n\u001b[1;32m--> 967\u001b[1;33m                 \u001b[0mexec_insert\u001b[0m\u001b[1;33m(\u001b[0m\u001b[0mconn\u001b[0m\u001b[1;33m,\u001b[0m \u001b[0mkeys\u001b[0m\u001b[1;33m,\u001b[0m \u001b[0mchunk_iter\u001b[0m\u001b[1;33m)\u001b[0m\u001b[1;33m\u001b[0m\u001b[1;33m\u001b[0m\u001b[0m\n\u001b[0m\u001b[0;32m    968\u001b[0m \u001b[1;33m\u001b[0m\u001b[0m\n\u001b[0;32m    969\u001b[0m     def _query_iterator(\n",
      "\u001b[1;32m~\\anaconda3\\lib\\site-packages\\pandas\\io\\sql.py\u001b[0m in \u001b[0;36m_execute_insert\u001b[1;34m(self, conn, keys, data_iter)\u001b[0m\n\u001b[0;32m   1922\u001b[0m     \u001b[1;32mdef\u001b[0m \u001b[0m_execute_insert\u001b[0m\u001b[1;33m(\u001b[0m\u001b[0mself\u001b[0m\u001b[1;33m,\u001b[0m \u001b[0mconn\u001b[0m\u001b[1;33m,\u001b[0m \u001b[0mkeys\u001b[0m\u001b[1;33m,\u001b[0m \u001b[0mdata_iter\u001b[0m\u001b[1;33m)\u001b[0m\u001b[1;33m:\u001b[0m\u001b[1;33m\u001b[0m\u001b[1;33m\u001b[0m\u001b[0m\n\u001b[0;32m   1923\u001b[0m         \u001b[0mdata_list\u001b[0m \u001b[1;33m=\u001b[0m \u001b[0mlist\u001b[0m\u001b[1;33m(\u001b[0m\u001b[0mdata_iter\u001b[0m\u001b[1;33m)\u001b[0m\u001b[1;33m\u001b[0m\u001b[1;33m\u001b[0m\u001b[0m\n\u001b[1;32m-> 1924\u001b[1;33m         \u001b[0mconn\u001b[0m\u001b[1;33m.\u001b[0m\u001b[0mexecutemany\u001b[0m\u001b[1;33m(\u001b[0m\u001b[0mself\u001b[0m\u001b[1;33m.\u001b[0m\u001b[0minsert_statement\u001b[0m\u001b[1;33m(\u001b[0m\u001b[0mnum_rows\u001b[0m\u001b[1;33m=\u001b[0m\u001b[1;36m1\u001b[0m\u001b[1;33m)\u001b[0m\u001b[1;33m,\u001b[0m \u001b[0mdata_list\u001b[0m\u001b[1;33m)\u001b[0m\u001b[1;33m\u001b[0m\u001b[1;33m\u001b[0m\u001b[0m\n\u001b[0m\u001b[0;32m   1925\u001b[0m \u001b[1;33m\u001b[0m\u001b[0m\n\u001b[0;32m   1926\u001b[0m     \u001b[1;32mdef\u001b[0m \u001b[0m_execute_insert_multi\u001b[0m\u001b[1;33m(\u001b[0m\u001b[0mself\u001b[0m\u001b[1;33m,\u001b[0m \u001b[0mconn\u001b[0m\u001b[1;33m,\u001b[0m \u001b[0mkeys\u001b[0m\u001b[1;33m,\u001b[0m \u001b[0mdata_iter\u001b[0m\u001b[1;33m)\u001b[0m\u001b[1;33m:\u001b[0m\u001b[1;33m\u001b[0m\u001b[1;33m\u001b[0m\u001b[0m\n",
      "\u001b[1;31mIntegrityError\u001b[0m: UNIQUE constraint failed: Products.CODE_MODELE_COULEUR_ACTUEL"
     ]
    }
   ],
   "source": [
    "df2.to_sql('Products', connection, if_exists='append', index=False)\n",
    "\n",
    "connection.commit()"
   ]
  },
  {
   "cell_type": "markdown",
   "id": "f6048a4a",
   "metadata": {},
   "source": [
    "#### Listing Column Names of the DataFrame"
   ]
  },
  {
   "cell_type": "code",
   "execution_count": 76,
   "id": "09370ba8",
   "metadata": {},
   "outputs": [
    {
     "name": "stdout",
     "output_type": "stream",
     "text": [
      "['CODE_MODELE_COULEUR_ACTUEL', 'SIGNATURE_PRODUCT']\n"
     ]
    }
   ],
   "source": [
    "print(df2.columns.tolist())"
   ]
  },
  {
   "cell_type": "markdown",
   "id": "fd6b67e8",
   "metadata": {},
   "source": [
    "#### For example : Retrieving Products with 'SIGNATURE_PRODUCT' Set to 0"
   ]
  },
  {
   "cell_type": "markdown",
   "id": "fd801368",
   "metadata": {},
   "source": [
    "cursor.execute(\"select * from products where SIGNATURE_PRODUCT = 0\")\n",
    "results = cursor.fetchall()\n",
    "print(results)"
   ]
  },
  {
   "cell_type": "markdown",
   "id": "d5caa90e",
   "metadata": {},
   "source": [
    "### Tasks"
   ]
  },
  {
   "cell_type": "markdown",
   "id": "c4fdcdba",
   "metadata": {},
   "source": [
    "####  1 ) Aggregating Total Margin for Signature Products over the Last 2 Months"
   ]
  },
  {
   "cell_type": "code",
   "execution_count": 78,
   "id": "d1a3452b",
   "metadata": {},
   "outputs": [
    {
     "name": "stdout",
     "output_type": "stream",
     "text": [
      "(0, 4.906302000025996e+18)\n",
      "(1, 2.0329110000512996e+18)\n"
     ]
    }
   ],
   "source": [
    "# SQL Query\n",
    "sql_query_1 = \"\"\"\n",
    "SELECT p.SIGNATURE_PRODUCT, SUM(t.Marge_Nette_Magasin) as Total_Margin\n",
    "FROM products p\n",
    "JOIN Transactions t ON p.CODE_MODELE_COULEUR_ACTUEL = t.Modele_Couleur_Ref\n",
    "WHERE t.Date_Transaction >= date('now', '-2 months')\n",
    "GROUP BY p.SIGNATURE_PRODUCT;\n",
    "\"\"\"\n",
    "\n",
    "# Execute the query\n",
    "cursor.execute(sql_query_1)\n",
    "\n",
    "#Fetch and display the results\n",
    "results = cursor.fetchall()\n",
    "for row in results:\n",
    "    print(row)\n",
    "\n",
    "\n",
    "# Fetch and display the results\n",
    "#results = cursor.fetchall()\n",
    "#print(results)\n"
   ]
  },
  {
   "cell_type": "markdown",
   "id": "ed013d81",
   "metadata": {},
   "source": [
    "####  2) Revenue Analysis: Daily Totals by \"Transaction Date\" (Chiffre d'Affaires_Net_Toutes Taxes Comprises = CA_Net_TTC)"
   ]
  },
  {
   "cell_type": "code",
   "execution_count": 79,
   "id": "1ec1f9a1",
   "metadata": {},
   "outputs": [
    {
     "data": {
      "text/html": [
       "<div>\n",
       "<style scoped>\n",
       "    .dataframe tbody tr th:only-of-type {\n",
       "        vertical-align: middle;\n",
       "    }\n",
       "\n",
       "    .dataframe tbody tr th {\n",
       "        vertical-align: top;\n",
       "    }\n",
       "\n",
       "    .dataframe thead th {\n",
       "        text-align: right;\n",
       "    }\n",
       "</style>\n",
       "<table border=\"1\" class=\"dataframe\">\n",
       "  <thead>\n",
       "    <tr style=\"text-align: right;\">\n",
       "      <th></th>\n",
       "      <th>Date_Transaction</th>\n",
       "      <th>Daily_Revenue</th>\n",
       "    </tr>\n",
       "  </thead>\n",
       "  <tbody>\n",
       "    <tr>\n",
       "      <th>0</th>\n",
       "      <td>31/03/2022</td>\n",
       "      <td>5.023449e+06</td>\n",
       "    </tr>\n",
       "    <tr>\n",
       "      <th>1</th>\n",
       "      <td>31/01/2022</td>\n",
       "      <td>6.892140e+16</td>\n",
       "    </tr>\n",
       "    <tr>\n",
       "      <th>2</th>\n",
       "      <td>30/03/2022</td>\n",
       "      <td>8.327841e+06</td>\n",
       "    </tr>\n",
       "    <tr>\n",
       "      <th>3</th>\n",
       "      <td>30/01/2022</td>\n",
       "      <td>8.908000e+05</td>\n",
       "    </tr>\n",
       "    <tr>\n",
       "      <th>4</th>\n",
       "      <td>29/03/2022</td>\n",
       "      <td>5.507609e+06</td>\n",
       "    </tr>\n",
       "    <tr>\n",
       "      <th>...</th>\n",
       "      <td>...</td>\n",
       "      <td>...</td>\n",
       "    </tr>\n",
       "    <tr>\n",
       "      <th>63</th>\n",
       "      <td>04/01/2022</td>\n",
       "      <td>6.800000e+01</td>\n",
       "    </tr>\n",
       "    <tr>\n",
       "      <th>64</th>\n",
       "      <td>03/02/2022</td>\n",
       "      <td>1.120300e+04</td>\n",
       "    </tr>\n",
       "    <tr>\n",
       "      <th>65</th>\n",
       "      <td>03/01/2022</td>\n",
       "      <td>1.530000e+03</td>\n",
       "    </tr>\n",
       "    <tr>\n",
       "      <th>66</th>\n",
       "      <td>02/02/2022</td>\n",
       "      <td>2.538100e+04</td>\n",
       "    </tr>\n",
       "    <tr>\n",
       "      <th>67</th>\n",
       "      <td>01/02/2022</td>\n",
       "      <td>1.703400e+04</td>\n",
       "    </tr>\n",
       "  </tbody>\n",
       "</table>\n",
       "<p>68 rows × 2 columns</p>\n",
       "</div>"
      ],
      "text/plain": [
       "   Date_Transaction  Daily_Revenue\n",
       "0        31/03/2022   5.023449e+06\n",
       "1        31/01/2022   6.892140e+16\n",
       "2        30/03/2022   8.327841e+06\n",
       "3        30/01/2022   8.908000e+05\n",
       "4        29/03/2022   5.507609e+06\n",
       "..              ...            ...\n",
       "63       04/01/2022   6.800000e+01\n",
       "64       03/02/2022   1.120300e+04\n",
       "65       03/01/2022   1.530000e+03\n",
       "66       02/02/2022   2.538100e+04\n",
       "67       01/02/2022   1.703400e+04\n",
       "\n",
       "[68 rows x 2 columns]"
      ]
     },
     "metadata": {},
     "output_type": "display_data"
    }
   ],
   "source": [
    "# SQL Query\n",
    "sql_query_2 = \"\"\"\n",
    "SELECT t.Date_Transaction, SUM(t.CA_Net_TTC) as Daily_Revenue\n",
    "FROM Transactions t\n",
    "GROUP BY t.Date_Transaction\n",
    "ORDER BY t.Date_Transaction DESC;\n",
    "\"\"\"\n",
    "\n",
    "# Execute the query\n",
    "cursor.execute(sql_query_2)\n",
    "\n",
    "# Fetch results\n",
    "results = cursor.fetchall()\n",
    "\n",
    "# Fetch column names from the cursor description\n",
    "columns = [desc[0] for desc in cursor.description]\n",
    "\n",
    "\n",
    "# Convert results to a DataFrame\n",
    "df_results = pd.DataFrame(results, columns=columns)\n",
    "\n",
    "# Display the DataFrame\n",
    "display(df_results)\n",
    "\n"
   ]
  },
  {
   "cell_type": "markdown",
   "id": "0a1f39d9",
   "metadata": {},
   "source": [
    "#### 3) Top 10  \"Modele_Couleur_Ref\" by Units Sold"
   ]
  },
  {
   "cell_type": "code",
   "execution_count": 80,
   "id": "9d529ab0",
   "metadata": {},
   "outputs": [
    {
     "data": {
      "text/html": [
       "<div>\n",
       "<style scoped>\n",
       "    .dataframe tbody tr th:only-of-type {\n",
       "        vertical-align: middle;\n",
       "    }\n",
       "\n",
       "    .dataframe tbody tr th {\n",
       "        vertical-align: top;\n",
       "    }\n",
       "\n",
       "    .dataframe thead th {\n",
       "        text-align: right;\n",
       "    }\n",
       "</style>\n",
       "<table border=\"1\" class=\"dataframe\">\n",
       "  <thead>\n",
       "    <tr style=\"text-align: right;\">\n",
       "      <th></th>\n",
       "      <th>Modele_Couleur_Ref</th>\n",
       "      <th>Total_Units_Sold</th>\n",
       "    </tr>\n",
       "  </thead>\n",
       "  <tbody>\n",
       "    <tr>\n",
       "      <th>0</th>\n",
       "      <td>MCR59750</td>\n",
       "      <td>63427</td>\n",
       "    </tr>\n",
       "    <tr>\n",
       "      <th>1</th>\n",
       "      <td>MCR19832</td>\n",
       "      <td>41174</td>\n",
       "    </tr>\n",
       "    <tr>\n",
       "      <th>2</th>\n",
       "      <td>MCR59751</td>\n",
       "      <td>37842</td>\n",
       "    </tr>\n",
       "    <tr>\n",
       "      <th>3</th>\n",
       "      <td>MCR94923</td>\n",
       "      <td>34425</td>\n",
       "    </tr>\n",
       "    <tr>\n",
       "      <th>4</th>\n",
       "      <td>MCR1987</td>\n",
       "      <td>33609</td>\n",
       "    </tr>\n",
       "    <tr>\n",
       "      <th>5</th>\n",
       "      <td>MCR55929</td>\n",
       "      <td>30073</td>\n",
       "    </tr>\n",
       "    <tr>\n",
       "      <th>6</th>\n",
       "      <td>MCR53294</td>\n",
       "      <td>27557</td>\n",
       "    </tr>\n",
       "    <tr>\n",
       "      <th>7</th>\n",
       "      <td>MCR94987</td>\n",
       "      <td>24633</td>\n",
       "    </tr>\n",
       "    <tr>\n",
       "      <th>8</th>\n",
       "      <td>MCR94986</td>\n",
       "      <td>24038</td>\n",
       "    </tr>\n",
       "    <tr>\n",
       "      <th>9</th>\n",
       "      <td>MCR66347</td>\n",
       "      <td>23987</td>\n",
       "    </tr>\n",
       "  </tbody>\n",
       "</table>\n",
       "</div>"
      ],
      "text/plain": [
       "  Modele_Couleur_Ref  Total_Units_Sold\n",
       "0           MCR59750             63427\n",
       "1           MCR19832             41174\n",
       "2           MCR59751             37842\n",
       "3           MCR94923             34425\n",
       "4            MCR1987             33609\n",
       "5           MCR55929             30073\n",
       "6           MCR53294             27557\n",
       "7           MCR94987             24633\n",
       "8           MCR94986             24038\n",
       "9           MCR66347             23987"
      ]
     },
     "metadata": {},
     "output_type": "display_data"
    }
   ],
   "source": [
    "# SQL Query\n",
    "sql_query_3 = \"\"\"\n",
    "SELECT t.Modele_Couleur_Ref, SUM(t.Quantite_Vendue) as Total_Units_Sold\n",
    "FROM Transactions t\n",
    "GROUP BY t.Modele_Couleur_Ref\n",
    "ORDER BY Total_Units_Sold DESC\n",
    "LIMIT 10;\n",
    "\"\"\"\n",
    "\n",
    "# Execute the query\n",
    "cursor.execute(sql_query_3)\n",
    "\n",
    "# Fetch results\n",
    "results = cursor.fetchall()\n",
    "\n",
    "# Fetch column names from the cursor description\n",
    "columns = [desc[0] for desc in cursor.description]\n",
    "\n",
    "\n",
    "# Convert results to a DataFrame\n",
    "df_results = pd.DataFrame(results, columns=columns)\n",
    "\n",
    "# Display the DataFrame\n",
    "display(df_results)\n"
   ]
  },
  {
   "cell_type": "markdown",
   "id": "b6be4abb",
   "metadata": {},
   "source": [
    "#### 4) Number of Transactions per store"
   ]
  },
  {
   "cell_type": "code",
   "execution_count": 81,
   "id": "0df9726e",
   "metadata": {},
   "outputs": [
    {
     "data": {
      "text/html": [
       "<div>\n",
       "<style scoped>\n",
       "    .dataframe tbody tr th:only-of-type {\n",
       "        vertical-align: middle;\n",
       "    }\n",
       "\n",
       "    .dataframe tbody tr th {\n",
       "        vertical-align: top;\n",
       "    }\n",
       "\n",
       "    .dataframe thead th {\n",
       "        text-align: right;\n",
       "    }\n",
       "</style>\n",
       "<table border=\"1\" class=\"dataframe\">\n",
       "  <thead>\n",
       "    <tr style=\"text-align: right;\">\n",
       "      <th></th>\n",
       "      <th>Point_de_Vente</th>\n",
       "      <th>Total_Transactions</th>\n",
       "    </tr>\n",
       "  </thead>\n",
       "  <tbody>\n",
       "    <tr>\n",
       "      <th>0</th>\n",
       "      <td>PDV-id-0063</td>\n",
       "      <td>2906</td>\n",
       "    </tr>\n",
       "    <tr>\n",
       "      <th>1</th>\n",
       "      <td>PDV-id-00450</td>\n",
       "      <td>2814</td>\n",
       "    </tr>\n",
       "    <tr>\n",
       "      <th>2</th>\n",
       "      <td>PDV-id-00119</td>\n",
       "      <td>2640</td>\n",
       "    </tr>\n",
       "    <tr>\n",
       "      <th>3</th>\n",
       "      <td>PDV-id-00363</td>\n",
       "      <td>2609</td>\n",
       "    </tr>\n",
       "    <tr>\n",
       "      <th>4</th>\n",
       "      <td>PDV-id-00157</td>\n",
       "      <td>2606</td>\n",
       "    </tr>\n",
       "    <tr>\n",
       "      <th>...</th>\n",
       "      <td>...</td>\n",
       "      <td>...</td>\n",
       "    </tr>\n",
       "    <tr>\n",
       "      <th>656</th>\n",
       "      <td>PDV-id-0032</td>\n",
       "      <td>1</td>\n",
       "    </tr>\n",
       "    <tr>\n",
       "      <th>657</th>\n",
       "      <td>PDV-id-00306</td>\n",
       "      <td>1</td>\n",
       "    </tr>\n",
       "    <tr>\n",
       "      <th>658</th>\n",
       "      <td>PDV-id-00283</td>\n",
       "      <td>1</td>\n",
       "    </tr>\n",
       "    <tr>\n",
       "      <th>659</th>\n",
       "      <td>PDV-id-00275</td>\n",
       "      <td>1</td>\n",
       "    </tr>\n",
       "    <tr>\n",
       "      <th>660</th>\n",
       "      <td>PDV-id-00108</td>\n",
       "      <td>1</td>\n",
       "    </tr>\n",
       "  </tbody>\n",
       "</table>\n",
       "<p>661 rows × 2 columns</p>\n",
       "</div>"
      ],
      "text/plain": [
       "    Point_de_Vente  Total_Transactions\n",
       "0      PDV-id-0063                2906\n",
       "1     PDV-id-00450                2814\n",
       "2     PDV-id-00119                2640\n",
       "3     PDV-id-00363                2609\n",
       "4     PDV-id-00157                2606\n",
       "..             ...                 ...\n",
       "656    PDV-id-0032                   1\n",
       "657   PDV-id-00306                   1\n",
       "658   PDV-id-00283                   1\n",
       "659   PDV-id-00275                   1\n",
       "660   PDV-id-00108                   1\n",
       "\n",
       "[661 rows x 2 columns]"
      ]
     },
     "metadata": {},
     "output_type": "display_data"
    }
   ],
   "source": [
    "sql_query_4 = \"\"\"\n",
    "SELECT t.Point_de_Vente, COUNT(DISTINCT t.Numero_Transaction) as Total_Transactions\n",
    "FROM Transactions t\n",
    "GROUP BY t.Point_de_Vente\n",
    "ORDER BY Total_Transactions DESC;\n",
    "\"\"\"\n",
    "\n",
    "# Execute the query\n",
    "cursor.execute(sql_query_4)\n",
    "\n",
    "# Fetch results\n",
    "results = cursor.fetchall()\n",
    "\n",
    "# Fetch column names from the cursor description\n",
    "columns = [desc[0] for desc in cursor.description]\n",
    "\n",
    "\n",
    "# Convert results to a DataFrame\n",
    "df_results = pd.DataFrame(results, columns=columns)\n",
    "\n",
    "# Display the DataFrame\n",
    "display(df_results)"
   ]
  },
  {
   "cell_type": "markdown",
   "id": "57314e02",
   "metadata": {},
   "source": [
    "### To close the connection"
   ]
  },
  {
   "cell_type": "code",
   "execution_count": 82,
   "id": "f5af861a",
   "metadata": {},
   "outputs": [],
   "source": [
    "connection.close()\n"
   ]
  },
  {
   "cell_type": "markdown",
   "id": "228cef6f",
   "metadata": {},
   "source": [
    "### Checking SQLite Database Connection Status Using a Flag"
   ]
  },
  {
   "cell_type": "code",
   "execution_count": 83,
   "id": "57d9eaf3",
   "metadata": {},
   "outputs": [
    {
     "name": "stdout",
     "output_type": "stream",
     "text": [
      "The connection is closed.\n"
     ]
    }
   ],
   "source": [
    "is_closed = False\n",
    "\n",
    "# ... some database operations ...\n",
    "\n",
    "connection.close()\n",
    "is_closed = True\n",
    "\n",
    "# Later in the code\n",
    "if is_closed:\n",
    "    print(\"The connection is closed.\")\n",
    "else:\n",
    "    print(\"The connection is still open.\")\n"
   ]
  },
  {
   "cell_type": "markdown",
   "id": "231d2e3d",
   "metadata": {},
   "source": [
    "### To check the version of pandas library"
   ]
  },
  {
   "cell_type": "code",
   "execution_count": 84,
   "id": "6b2f9aac",
   "metadata": {},
   "outputs": [
    {
     "data": {
      "text/plain": [
       "'1.3.4'"
      ]
     },
     "execution_count": 84,
     "metadata": {},
     "output_type": "execute_result"
    }
   ],
   "source": [
    "\n",
    "pd.__version__\n"
   ]
  },
  {
   "cell_type": "markdown",
   "id": "b76cc996",
   "metadata": {},
   "source": [
    "### To check the version of openpyxl library"
   ]
  },
  {
   "cell_type": "code",
   "execution_count": 85,
   "id": "52e5ba06",
   "metadata": {},
   "outputs": [
    {
     "data": {
      "text/plain": [
       "'3.0.9'"
      ]
     },
     "execution_count": 85,
     "metadata": {},
     "output_type": "execute_result"
    }
   ],
   "source": [
    "import openpyxl\n",
    "openpyxl.__version__"
   ]
  }
 ],
 "metadata": {
  "kernelspec": {
   "display_name": "Python 3 (ipykernel)",
   "language": "python",
   "name": "python3"
  },
  "language_info": {
   "codemirror_mode": {
    "name": "ipython",
    "version": 3
   },
   "file_extension": ".py",
   "mimetype": "text/x-python",
   "name": "python",
   "nbconvert_exporter": "python",
   "pygments_lexer": "ipython3",
   "version": "3.9.7"
  }
 },
 "nbformat": 4,
 "nbformat_minor": 5
}
